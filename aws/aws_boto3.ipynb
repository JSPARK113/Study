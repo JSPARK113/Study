{
 "cells": [
  {
   "cell_type": "markdown",
   "metadata": {},
   "source": [
    "boto를 이용하면 python을 통해 asw를 제어할 수 있다.\n",
    "\n",
    "- [boto3 문서](https://boto3.readthedocs.io/en/latest/index.html)\n",
    "- [boto3 - EC2 관련 메서드](https://boto3.readthedocs.io/en/latest/reference/services/ec2.html)"
   ]
  },
  {
   "cell_type": "code",
   "execution_count": 26,
   "metadata": {},
   "outputs": [],
   "source": [
    "import boto3\n",
    "import csv\n",
    "\n",
    "# csv 파일에 access key를 저장해놓고, 불러옴.\n",
    "with open('/Users/jsp/.ssh/aws_private/accessKeys.csv') as csvfile:\n",
    "    key = csv.DictReader(csvfile)\n",
    "    for row in key:\n",
    "        \n",
    "        access_key = row['Access key ID']\n",
    "        secret_key = row['Secret access key']\n",
    "\n",
    "# boto를 통해 client 형식으로 ec2에 연결 \n",
    "ec2 = boto3.client(\n",
    "    'ec2',\n",
    "    aws_access_key_id=access_key,\n",
    "    aws_secret_access_key=secret_key,\n",
    ")"
   ]
  },
  {
   "cell_type": "code",
   "execution_count": 52,
   "metadata": {},
   "outputs": [],
   "source": [
    "# 위에서 지정한 client를 통해서 인스턴스 컨트롤, instance ID 입력\n",
    "\n",
    "# 인스턴스 시작\n",
    "response = ec2.start_instances(\n",
    "    InstanceIds=[\n",
    "        'i-05d09e44b2cdf7ef7',\n",
    "    ]\n",
    ")\n",
    "\n",
    "# 인스턴스 중지\n",
    "response = ec2.stop_instances(\n",
    "    InstanceIds=[\n",
    "        'i-05d09e44b2cdf7ef7',\n",
    "    ]\n",
    ")"
   ]
  },
  {
   "cell_type": "code",
   "execution_count": 53,
   "metadata": {},
   "outputs": [],
   "source": [
    "# 해당 ec2에 대한 정보 가져오기. 딕셔너리 형식.\n",
    "info = ec2.describe_instances()\n",
    "\n",
    "# 예: 첫번째 인스턴스의 아이디 가져오기\n",
    "first_instance_id = info['Reservations'][0]['Instances'][0]['InstanceId']"
   ]
  },
  {
   "cell_type": "code",
   "execution_count": null,
   "metadata": {},
   "outputs": [],
   "source": []
  }
 ],
 "metadata": {
  "kernelspec": {
   "display_name": "Python [conda env:vopt]",
   "language": "python",
   "name": "conda-env-vopt-py"
  },
  "language_info": {
   "codemirror_mode": {
    "name": "ipython",
    "version": 3
   },
   "file_extension": ".py",
   "mimetype": "text/x-python",
   "name": "python",
   "nbconvert_exporter": "python",
   "pygments_lexer": "ipython3",
   "version": "3.6.5"
  }
 },
 "nbformat": 4,
 "nbformat_minor": 2
}
