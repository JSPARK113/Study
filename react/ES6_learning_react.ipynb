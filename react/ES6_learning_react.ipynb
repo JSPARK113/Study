{
 "cells": [
  {
   "cell_type": "markdown",
   "metadata": {},
   "source": [
    "### node.js \n",
    "\n",
    "- node.js: 브라우저에 종속되지 않는 자바스크립트. \n",
    "- [사이트](https://nodejs.org/ko/download/)에서 다운로드 받아 설치한다.\n",
    "\n",
    "### npm\n",
    "\n",
    "- 노드 패키지 관리자. 리액트가 의존하는 여러 라이브러리 설치 시 사용.\n",
    "- [docs-dev 레포의 npm 항목](https://github.com/VeranosTech/docs-dev/blob/master/js/nodejs/npm/index.rst) 참고\n",
    "\n",
    "### Yarn\n",
    "\n",
    "- npm을 개선시킨 노드 패키지 관리자. 2016년 페이스북이 익스포넨트, 구글, 틸드와 협력해 발표. npm보다 빠르고 안전하다.\n",
    "- 사용방법은 npm과 유사\n",
    "- 설치: `npm install -g yarn`\n",
    "- 프로젝트 생성: `yarn init`\n",
    "- 패키지 추가: `yarn add [package-name]`\n",
    "- 패키지 삭제: `yarn remove [package-name]`"
   ]
  },
  {
   "cell_type": "markdown",
   "metadata": {},
   "source": [
    "# Chapter 2 - Emerging JavaScript\n",
    "\n",
    "ES6에서 달라진 주요 문법에 대해 설명한다."
   ]
  },
  {
   "cell_type": "markdown",
   "metadata": {},
   "source": [
    "## Declaring Variables in ES6\n",
    "\n",
    "### const\n",
    "변하지 않는 상수 값을 선언"
   ]
  },
  {
   "cell_type": "code",
   "execution_count": 1,
   "metadata": {},
   "outputs": [
    {
     "ename": "TypeError",
     "evalue": "Assignment to constant variable.",
     "output_type": "error",
     "traceback": [
      "evalmachine.<anonymous>:2",
      "pizza = false // TypeError: Assignment to constant variable. 에러 발생",
      "      ^",
      "",
      "TypeError: Assignment to constant variable.",
      "    at evalmachine.<anonymous>:2:7",
      "    at ContextifyScript.Script.runInThisContext (vm.js:50:33)",
      "    at Object.runInThisContext (vm.js:139:38)",
      "    at run ([eval]:1002:15)",
      "    at onRunRequest ([eval]:829:18)",
      "    at onMessage ([eval]:789:13)",
      "    at emitTwo (events.js:126:13)",
      "    at process.emit (events.js:214:7)",
      "    at emit (internal/child_process.js:772:12)",
      "    at _combinedTickCallback (internal/process/next_tick.js:141:11)"
     ]
    }
   ],
   "source": [
    "const pizza = true\n",
    "pizza = false // TypeError: Assignment to constant variable. 에러 발생"
   ]
  },
  {
   "cell_type": "markdown",
   "metadata": {},
   "source": [
    "### let\n",
    "lexical variable scoping: if와 for문의 블록에서 임시적으로 사용되는 변수 선언 가능"
   ]
  },
  {
   "cell_type": "code",
   "execution_count": 2,
   "metadata": {},
   "outputs": [
    {
     "name": "stdout",
     "output_type": "stream",
     "text": [
      "===var 사용===\n",
      "react\n",
      "react\n",
      "===let 사용===\n",
      "react\n",
      "javascript\n"
     ]
    }
   ],
   "source": [
    "// var 사용\n",
    "console.log('===var 사용===')\n",
    "var topic = 'javascript'\n",
    "\n",
    "if (topic) {\n",
    "    var topic = 'react'\n",
    "    console.log (topic) // react\n",
    "}\n",
    "\n",
    "console.log(topic) // react\n",
    "\n",
    "\n",
    "// let 사용\n",
    "console.log('===let 사용===')\n",
    "\n",
    "var topic = 'javascript'\n",
    "\n",
    "if (topic){\n",
    "    let topic = 'react'\n",
    "    console.log(topic) // react\n",
    "}\n",
    "\n",
    "console.log(topic) // javascript"
   ]
  },
  {
   "cell_type": "markdown",
   "metadata": {},
   "source": [
    "## Template Strings\n",
    "\n",
    "템플릿 문자열을 이용해 문자열 중간에 변수 삽입\n",
    "- 변수가 들어갈 자리에 `${}` 입력"
   ]
  },
  {
   "cell_type": "code",
   "execution_count": 3,
   "metadata": {},
   "outputs": [
    {
     "name": "stdout",
     "output_type": "stream",
     "text": [
      "파란색 집에는 창문이 3개 있습니다.\n",
      "파란색 집에는 창문이 3개 있습니다.\n"
     ]
    }
   ],
   "source": [
    "var color = '파란'\n",
    "var num = 3\n",
    "\n",
    "// 기존방식\n",
    "console.log(color + '색 집에는 창문이 ' + num + '개 있습니다.') // 파란색 집에는 창문이 3개 있습니다.\n",
    "\n",
    "// template strings 사용\n",
    "console.log(`${color}색 집에는 창문이 ${num}개 있습니다.`) // 위와 같은 결과"
   ]
  },
  {
   "cell_type": "code",
   "execution_count": 4,
   "metadata": {},
   "outputs": [
    {
     "ename": "SyntaxError",
     "evalue": "Invalid or unexpected token",
     "output_type": "error",
     "traceback": [
      "evalmachine.<anonymous>:3",
      "'기존방식은",
      "^^^^^^",
      "",
      "SyntaxError: Invalid or unexpected token",
      "    at createScript (vm.js:80:10)",
      "    at Object.runInThisContext (vm.js:139:10)",
      "    at run ([eval]:1002:15)",
      "    at onRunRequest ([eval]:829:18)",
      "    at onMessage ([eval]:789:13)",
      "    at emitTwo (events.js:126:13)",
      "    at process.emit (events.js:214:7)",
      "    at emit (internal/child_process.js:772:12)",
      "    at _combinedTickCallback (internal/process/next_tick.js:141:11)",
      "    at process._tickCallback (internal/process/next_tick.js:180:9)"
     ]
    }
   ],
   "source": [
    "// 에러 발생\n",
    "console.log(\n",
    "'기존방식은\n",
    "여러줄을\n",
    "지원하지\n",
    "않는다.')"
   ]
  },
  {
   "cell_type": "code",
   "execution_count": 5,
   "metadata": {},
   "outputs": [
    {
     "name": "stdout",
     "output_type": "stream",
     "text": [
      "템플릿 문자열은\n",
      "공백과 개행,\n",
      "탭을 모두 지원한다.\n"
     ]
    }
   ],
   "source": [
    "// 템플릿 문자열을 이용해 여러 줄로 입력 가능.\n",
    "console.log(\n",
    "`템플릿 문자열은\n",
    "공백과 개행,\n",
    "탭을 모두 지원한다.`)"
   ]
  },
  {
   "cell_type": "code",
   "execution_count": null,
   "metadata": {},
   "outputs": [],
   "source": [
    "// HTML 코드도 편하게 입력\n",
    "document.body.innerHTML = `\n",
    "<div class=\"row\">\n",
    "    <div class=\"col\"></div>\n",
    "    <div class=\"col\"></div>\n",
    "    <div class=\"col\"></div>\n",
    "</div>`"
   ]
  },
  {
   "cell_type": "markdown",
   "metadata": {},
   "source": [
    "### Default Parameter\n",
    "\n",
    "함수에 디폴트 파라미터 지정 가능"
   ]
  },
  {
   "cell_type": "code",
   "execution_count": 6,
   "metadata": {},
   "outputs": [],
   "source": [
    "function longActivity(name=\"홍길동\", activity=\"테니스\"){\n",
    "    console.log(`${name}은 ${activity}를 좋아한다.`)\n",
    "}"
   ]
  },
  {
   "cell_type": "code",
   "execution_count": 7,
   "metadata": {},
   "outputs": [
    {
     "name": "stdout",
     "output_type": "stream",
     "text": [
      "홍길동은 테니스를 좋아한다.\n"
     ]
    }
   ],
   "source": [
    "longActivity()"
   ]
  },
  {
   "cell_type": "code",
   "execution_count": 8,
   "metadata": {},
   "outputs": [
    {
     "name": "stdout",
     "output_type": "stream",
     "text": [
      "고길동은 배드민턴를 좋아한다.\n"
     ]
    }
   ],
   "source": [
    "longActivity(\"고길동\", \"배드민턴\")"
   ]
  },
  {
   "cell_type": "markdown",
   "metadata": {},
   "source": [
    "### Arrow Function \n",
    "\n",
    "화살표 함수: function 키워드 없이 함수 생성, return 없이도 계산 값이 자동 반환"
   ]
  },
  {
   "cell_type": "code",
   "execution_count": 9,
   "metadata": {},
   "outputs": [
    {
     "data": {
      "text/plain": [
       "'파란색 상자'"
      ]
     },
     "execution_count": 9,
     "metadata": {},
     "output_type": "execute_result"
    }
   ],
   "source": [
    "var boxColor = color => `${color} 상자`\n",
    "\n",
    "boxColor('파란색')"
   ]
  },
  {
   "cell_type": "code",
   "execution_count": 10,
   "metadata": {},
   "outputs": [
    {
     "data": {
      "text/plain": [
       "'파란색 상자'"
      ]
     },
     "execution_count": 10,
     "metadata": {},
     "output_type": "execute_result"
    }
   ],
   "source": [
    "// 이전 방식\n",
    "var boxColor2 = function boxColor2(color){\n",
    "    return `${color} 상자`\n",
    "}\n",
    "\n",
    "boxColor2('파란색')"
   ]
  },
  {
   "cell_type": "markdown",
   "metadata": {},
   "source": [
    "파라미터가 2개 이상이면 소괄호로 감싸야하고, 결과 계산을 위해 여러 줄을 사용해야 한다면 중괄호로 감싸야한다."
   ]
  },
  {
   "cell_type": "code",
   "execution_count": 11,
   "metadata": {},
   "outputs": [
    {
     "data": {
      "text/plain": [
       "'수학 과목은 A입니다.'"
      ]
     },
     "execution_count": 11,
     "metadata": {},
     "output_type": "execute_result"
    }
   ],
   "source": [
    "var scoreCheck = (subject, score) => {\n",
    "    \n",
    "    if (score >= 90) {\n",
    "        return `${subject} 과목은 A입니다.`\n",
    "    }\n",
    "    \n",
    "    if (age < 20) {\n",
    "        return `${subject} 과목은 B입니다.`\n",
    "    }\n",
    "    \n",
    "}\n",
    "\n",
    "scoreCheck('수학', 97)"
   ]
  },
  {
   "cell_type": "markdown",
   "metadata": {},
   "source": [
    "화살표 함수는 새로운 this 영역을 만들어내지 않는다."
   ]
  },
  {
   "cell_type": "code",
   "execution_count": 12,
   "metadata": {},
   "outputs": [
    {
     "name": "stderr",
     "output_type": "stream",
     "text": [
      "TypeError: Cannot read property 'join' of undefined\n",
      "    at Timeout._onTimeout (evalmachine.<anonymous>:6:35)\n",
      "    at ontimeout (timers.js:498:11)\n",
      "    at tryOnTimeout (timers.js:323:5)\n",
      "    at Timer.listOnTimeout (timers.js:290:5)"
     ]
    }
   ],
   "source": [
    "// 메서드 내에 중첩함수 사용 시 this가 window 객체를 가리킨다.\n",
    "var country = {\n",
    "    name: [\"한국\", \"중국\", \"일본\", \"미국\"],\n",
    "    print: function(delay=1000) {\n",
    "        setTimeout(function() {\n",
    "            console.log(this.name.join(\",\"))\n",
    "        }, delay)\n",
    "    }\n",
    "}\n",
    "\n",
    "country.print() // 에러발생, this.name이 undefined"
   ]
  },
  {
   "cell_type": "code",
   "execution_count": 13,
   "metadata": {},
   "outputs": [
    {
     "name": "stdout",
     "output_type": "stream",
     "text": [
      "한국,중국,일본,미국\n"
     ]
    }
   ],
   "source": [
    "// 메서드 내에 중첩함수를 화살표 함수로 사용하면 this는 해당 객체를 가리킨다.\n",
    "var country = {\n",
    "    name: [\"한국\", \"중국\", \"일본\", \"미국\"],\n",
    "    print: function(delay=1000) {\n",
    "        setTimeout(() => {\n",
    "            console.log(this.name.join(\",\"))\n",
    "        }, delay)\n",
    "    }\n",
    "}\n",
    "\n",
    "country.print() // this는 country 객체를 의미"
   ]
  },
  {
   "cell_type": "code",
   "execution_count": null,
   "metadata": {},
   "outputs": [],
   "source": [
    "// 메서드에 화살표 함수를 사용하면 this는 window 객체를 의미한다.\n",
    "// country.print 메서드 실행 시 window 객체를 출력한다.\n",
    "// strict 모드 실행 시에는 undefined가 출력된다.\n",
    "var country = {\n",
    "    name: [\"한국\", \"중국\", \"일본\", \"미국\"],\n",
    "    print: (delay=1000) => { // 화살표 함수 사용\n",
    "        setTimeout(() => {\n",
    "            console.log(this)\n",
    "        }, delay)\n",
    "    }\n",
    "}"
   ]
  },
  {
   "cell_type": "markdown",
   "metadata": {},
   "source": [
    "#### 추가: 함수의 this에 대해\n",
    "- [참고: ECMAScript 6: arrow functions and method definitions](http://2ality.com/2012/04/arrow-functions.html)\n",
    "- 객체의 메서드를 function 키워드로 생성 시\n",
    "  - this는 lexical scopes를 참고하지 않고, 실행되는 시점에 동적으로 결정된다. 여기서의 this는 `dynamic this`다.\n",
    "- 메서드가 아닌 함수를 function 키워드로 생성 시 \n",
    "  - this는 lexical scopes를 참조해 결정된다. 이는 `lexical this`다.\n",
    "  \n",
    "- 화살표 함수로 생성 시\n",
    "  - 따로 지정을 해주지 않는 한 메서드든 아니든 lexical scopes에서 this가 결정된다. 이는 `lexical this`다.\n",
    "  - 바인딩된 this 값을 가지고 있는 셈이다.\n",
    "  - 메서드로 화살표 함수를 사용해도 실행 시점에서 this가 결정되는 것이 아니라 lexical scopes에서 this가 결정된다."
   ]
  },
  {
   "cell_type": "markdown",
   "metadata": {},
   "source": [
    "### ES6 Transpiling\n",
    "\n",
    "모든 웹 브라우저가 ES6를 지원하지는 않기 때문에 트랜스파일링을 통해 ES6 코드를 ES5로 컴파일한다.\n",
    "- 트랜스파일링 도구로는 [바벨Babel](http://www.babeljs.io)이 유명하다."
   ]
  },
  {
   "cell_type": "code",
   "execution_count": null,
   "metadata": {},
   "outputs": [],
   "source": [
    "// ES6로 작성된 add 함수\n",
    "var add = (x=3, y=2) => x + y;"
   ]
  },
  {
   "cell_type": "code",
   "execution_count": null,
   "metadata": {},
   "outputs": [],
   "source": [
    "// 위 함수를 Babel을 통해 ES5 문법으로 변경\n",
    "\"use strict\";\n",
    "\n",
    "var add = function add() {\n",
    "  var x = arguments.length > 0 && arguments[0] !== undefined ? arguments[0] : 3;\n",
    "  var y = arguments.length > 1 && arguments[1] !== undefined ? arguments[1] : 2;\n",
    "  return x + y;\n",
    "};"
   ]
  },
  {
   "cell_type": "markdown",
   "metadata": {},
   "source": [
    "## ES6 객체와 배열\n",
    "### Destructuring\n",
    "\n",
    "- 배열의 구조분해"
   ]
  },
  {
   "cell_type": "code",
   "execution_count": 14,
   "metadata": {},
   "outputs": [
    {
     "name": "stdout",
     "output_type": "stream",
     "text": [
      "one\n",
      "two\n",
      "three\n"
     ]
    }
   ],
   "source": [
    "var number = [\"one\", \"two\", \"three\", \"four\"];\n",
    " \n",
    "var [x, y, z] = number;\n",
    "console.log(x); // \"one\"\n",
    "console.log(y); // \"two\"\n",
    "console.log(z); // \"three\""
   ]
  },
  {
   "cell_type": "markdown",
   "metadata": {},
   "source": [
    "- 객체의 구조분해: 객체 안의 필드 값을 원하는 변수에 대입 가능"
   ]
  },
  {
   "cell_type": "code",
   "execution_count": 16,
   "metadata": {},
   "outputs": [
    {
     "name": "stdout",
     "output_type": "stream",
     "text": [
      "더치 크런치 불고기\n",
      "식빵\n",
      "닭고기\n",
      "더치 크런치 불고기\n"
     ]
    }
   ],
   "source": [
    "var sandwich = {\n",
    "    bread: \"더치 크런치\",\n",
    "    meat: \"불고기\",\n",
    "    cheese: \"체다\",\n",
    "    toppings: [\"머스타드\", \"올리브\"],\n",
    "}\n",
    "\n",
    "var {bread, meat} = sandwich\n",
    "\n",
    "console.log(bread, meat) // 더치 크런치 불고기\n",
    "\n",
    "bread = \"식빵\"\n",
    "meat = \"닭고기\"\n",
    "\n",
    "console.log(bread) // 식빵\n",
    "console.log(meat) // 닭고기\n",
    "\n",
    "console.log(sandwich.bread, sandwich.meat) // 더치 크런치 불고기"
   ]
  },
  {
   "cell_type": "code",
   "execution_count": 17,
   "metadata": {},
   "outputs": [
    {
     "name": "stdout",
     "output_type": "stream",
     "text": [
      "김철수 씨(23세)\n"
     ]
    }
   ],
   "source": [
    "var user = userInfo => {\n",
    "    console.log(`${userInfo.name} 씨(${userInfo.age}세)`)\n",
    "}\n",
    "\n",
    "var userInfo = {\n",
    "    name: \"김철수\",\n",
    "    age: 23\n",
    "}\n",
    "user(userInfo)"
   ]
  },
  {
   "cell_type": "code",
   "execution_count": 39,
   "metadata": {},
   "outputs": [
    {
     "name": "stdout",
     "output_type": "stream",
     "text": [
      "김철수 씨(23세)\n"
     ]
    }
   ],
   "source": [
    "// 구조분해로 객체 내의 name, age 값을 사용\n",
    "var user = ({name, age}) => {\n",
    "    console.log(`${name} 씨(${age}세)`)\n",
    "}\n",
    "\n",
    "var userInfo = {\n",
    "    name: \"김철수\",\n",
    "    age: 23\n",
    "}\n",
    "user(userInfo)"
   ]
  },
  {
   "cell_type": "markdown",
   "metadata": {},
   "source": [
    "### Object Literal Enhancement\n",
    "\n",
    "객체 리터럴 개선은 구조분해의 반대. 내용을 묶는 과정."
   ]
  },
  {
   "cell_type": "code",
   "execution_count": 19,
   "metadata": {},
   "outputs": [
    {
     "name": "stdout",
     "output_type": "stream",
     "text": [
      "{ country: '한국', city: '서울' }\n"
     ]
    }
   ],
   "source": [
    "var country = \"한국\"\n",
    "var city = \"서울\"\n",
    "\n",
    "// 객체의 필드로 묶는다.\n",
    "var data = {country, city}\n",
    "\n",
    "console.log(data)"
   ]
  },
  {
   "cell_type": "markdown",
   "metadata": {},
   "source": [
    "새로운 방식의 객체 선언 문법"
   ]
  },
  {
   "cell_type": "code",
   "execution_count": 21,
   "metadata": {},
   "outputs": [],
   "source": [
    "var name = '김영희'\n",
    "var age = 30\n",
    "\n",
    "// 이전 방식\n",
    "var user = {\n",
    "    name: name,\n",
    "    age: age,\n",
    "    print: function() {\n",
    "        console.log(`${this.name} 고객님(${age}세)`)\n",
    "    }\n",
    "}\n",
    "// 새로운 방식\n",
    "var user_new = {\n",
    "    name,\n",
    "    age,\n",
    "    print() {\n",
    "        console.log(`${this.name} 고객님(${age}세)`)\n",
    "    }\n",
    "}"
   ]
  },
  {
   "cell_type": "code",
   "execution_count": 22,
   "metadata": {
    "scrolled": true
   },
   "outputs": [
    {
     "name": "stdout",
     "output_type": "stream",
     "text": [
      "{ name: '김영희', age: 30, print: [Function: print] }\n",
      "김영희 고객님(30세)\n"
     ]
    }
   ],
   "source": [
    "console.log(user)\n",
    "user.print()"
   ]
  },
  {
   "cell_type": "code",
   "execution_count": 23,
   "metadata": {},
   "outputs": [
    {
     "name": "stdout",
     "output_type": "stream",
     "text": [
      "{ name: '김영희', age: 30, print: [Function: print] }\n",
      "김영희 고객님(30세)\n"
     ]
    }
   ],
   "source": [
    "console.log(user_new)\n",
    "user_new.print()"
   ]
  },
  {
   "cell_type": "markdown",
   "metadata": {},
   "source": [
    "### Spread operator\n",
    "\n",
    "스프레드 연산자: 세 개의 점으로 이루어진 연산자(...)로 배열의 원소를 사용할 수 있게 해준다."
   ]
  },
  {
   "cell_type": "code",
   "execution_count": 24,
   "metadata": {},
   "outputs": [
    {
     "data": {
      "text/plain": [
       "[ 'red', 'blue', 'green', 'dog', 'cat' ]"
      ]
     },
     "execution_count": 24,
     "metadata": {},
     "output_type": "execute_result"
    }
   ],
   "source": [
    "var color = ['red', 'blue', 'green']\n",
    "var animal = ['dog', 'cat']\n",
    "\n",
    "// 두 배열 합치기\n",
    "var newArray = [...color, ...animal]\n",
    "newArray"
   ]
  },
  {
   "cell_type": "code",
   "execution_count": 25,
   "metadata": {},
   "outputs": [
    {
     "data": {
      "text/plain": [
       "[ 'green', 'blue', 'red' ]"
      ]
     },
     "execution_count": 25,
     "metadata": {},
     "output_type": "execute_result"
    }
   ],
   "source": [
    "// color 배열의 배열을 뒤집은 새로운 배열 만들기\n",
    "// 기존 배열의 순서는 바뀌지 않는다.\n",
    "var newArray2 = [...color].reverse()\n",
    "newArray2"
   ]
  },
  {
   "cell_type": "code",
   "execution_count": 26,
   "metadata": {},
   "outputs": [
    {
     "name": "stdout",
     "output_type": "stream",
     "text": [
      "first: red\n",
      "rest: blue, green, dog, cat\n"
     ]
    }
   ],
   "source": [
    "// 배열의 일부를 얻을 수 있다.\n",
    "var [first, ...rest] = newArray\n",
    "\n",
    "console.log(`first: ${first}`)\n",
    "console.log(`rest: ${rest.join(\", \")}`)"
   ]
  },
  {
   "cell_type": "code",
   "execution_count": 27,
   "metadata": {},
   "outputs": [
    {
     "name": "stdout",
     "output_type": "stream",
     "text": [
      "6 도시를 운행합니다.\n",
      "서울에서 출발합니다.\n",
      "목적지는 부산입니다.\n",
      "중간에 4군데 들립니다.\n"
     ]
    }
   ],
   "source": [
    "// 함수의 인자를 배열로 모으기\n",
    "function directions(...args) {\n",
    "    var [start, ...remaining] = args\n",
    "    var [finish, ...stops] = remaining.reverse()\n",
    "    \n",
    "    console.log(`${args.length} 도시를 운행합니다.`)\n",
    "    console.log(`${start}에서 출발합니다.`)\n",
    "    console.log(`목적지는 ${finish}입니다.`)\n",
    "    console.log(`중간에 ${stops.length}군데 들립니다.`)\n",
    "}\n",
    "\n",
    "directions(\"서울\", \"수원\", \"천안\", \"대전\", \"대구\", \"부산\")"
   ]
  },
  {
   "cell_type": "code",
   "execution_count": 28,
   "metadata": {},
   "outputs": [
    {
     "data": {
      "text/plain": [
       "{ door: 'red', table: 'yellow', chair: 'blue' }"
      ]
     },
     "execution_count": 28,
     "metadata": {},
     "output_type": "execute_result"
    }
   ],
   "source": [
    "// 스프레드 연산자를 객체에 사용\n",
    "var house = {\n",
    "    door: 'red',\n",
    "    table: 'yellow'\n",
    "}\n",
    "\n",
    "var chair = 'blue'\n",
    "\n",
    "var home = {\n",
    "    ...house,\n",
    "    chair\n",
    "}\n",
    "\n",
    "home"
   ]
  },
  {
   "cell_type": "markdown",
   "metadata": {},
   "source": [
    "### Promise\n",
    "\n",
    "프로미스는 비동기요청을 쉽게 처리할 수 있도록 해준다."
   ]
  },
  {
   "cell_type": "code",
   "execution_count": 40,
   "metadata": {},
   "outputs": [
    {
     "name": "stdout",
     "output_type": "stream",
     "text": [
      "성공\n"
     ]
    }
   ],
   "source": [
    "var getData = status => {\n",
    "    return new Promise((resolve, reject) => {\n",
    "      setTimeout(() => {\n",
    "          if(status === '성공'){\n",
    "              resolve('성공')\n",
    "          } else {\n",
    "              reject('실패')\n",
    "          }\n",
    "      }, 1000);\n",
    "    })\n",
    "};\n",
    "\n",
    "getData('성공').then(\n",
    "    response => console.log(response), // 비동기 처리 완료 시(resolve) 실행되는 함수\n",
    "    err => console.error(err + \": 에러가 발생했습니다.\") // 비동기 처리 실패 시(reject) 실행되는 함수\n",
    ");"
   ]
  },
  {
   "cell_type": "code",
   "execution_count": 41,
   "metadata": {},
   "outputs": [
    {
     "name": "stderr",
     "output_type": "stream",
     "text": [
      "실패: 에러가 발생했습니다.\n"
     ]
    }
   ],
   "source": [
    "getData('실패').then(\n",
    "    response => console.log(response), // 비동기 처리 완료 시(resolve) 실행되는 함수\n",
    "    err => console.error(err + \": 에러가 발생했습니다.\") // 비동기 처리 실패 시(reject) 실행되는 함수\n",
    ");"
   ]
  },
  {
   "cell_type": "code",
   "execution_count": null,
   "metadata": {},
   "outputs": [],
   "source": [
    "// 함수에 promise 설정\n",
    "var getFakeMembers = count => new Promise((resolves, rejects) => { \n",
    "    const api = `http://api.randomuser.me/?nat=US&results=${count}`\n",
    "    const request = new XMLHttpRequest()\n",
    "    request.open('GET', api)\n",
    "    request.onload = () =>\n",
    "        (request.status == 200) ?\n",
    "        resolves(JSON.parse(request.response).results) :\n",
    "        reject(Error(request.statusText))\n",
    "    request.onerror = (err) => rejects(err)\n",
    "    request.send()\n",
    "})\n",
    "\n",
    "// 함수 실행\n",
    "getFakeMembers(2).then(\n",
    "    members => console.log(members),\n",
    "    err => console.error(\n",
    "        new Error(\"randomuser.me에서 멤버를 가져올 수 없습니다.\"))\n",
    ")"
   ]
  },
  {
   "cell_type": "markdown",
   "metadata": {},
   "source": [
    "### Class\n",
    "\n",
    "ES6에는 클래스 선언이 추가됐다. 기존 방식 역시 여전히 유효하다.  \n",
    "class 키워드를 사용하는 것은 프로토타입의 상속을 사용하는 것이다."
   ]
  },
  {
   "cell_type": "code",
   "execution_count": 32,
   "metadata": {},
   "outputs": [
    {
     "name": "stdout",
     "output_type": "stream",
     "text": [
      "칠레 산티아고은(는) 7일 걸립니다.\n"
     ]
    }
   ],
   "source": [
    "// 클래스 정의\n",
    "class Vacation {\n",
    "    \n",
    "    constructor(destination, length) {\n",
    "        this.destination = destination\n",
    "        this.length = length\n",
    "    }\n",
    "    \n",
    "    print() {\n",
    "        console.log(`${this.destination}은(는) ${this.length}일 걸립니다.`)\n",
    "    }\n",
    "    \n",
    "}\n",
    "\n",
    "// 인스턴스 생성\n",
    "const trip = new Vacation(\"칠레 산티아고\", 7)\n",
    "\n",
    "trip.print()"
   ]
  },
  {
   "cell_type": "markdown",
   "metadata": {},
   "source": [
    "상속: 기존 클래스(parent/super class)를 확장한 새로운 클래스(child/sub class) 생성"
   ]
  },
  {
   "cell_type": "code",
   "execution_count": 33,
   "metadata": {},
   "outputs": [],
   "source": [
    "class Expedition extends Vacation {\n",
    "    constructor(destination, length, gear) {\n",
    "        super(destination, length)\n",
    "        this.gear = gear\n",
    "    }\n",
    "    print() {\n",
    "        super.print()\n",
    "        console.log(`${this.gear.join(\", \")}를(을) 가져오십시오.`)\n",
    "    }\n",
    "}"
   ]
  },
  {
   "cell_type": "code",
   "execution_count": 34,
   "metadata": {
    "scrolled": true
   },
   "outputs": [
    {
     "name": "stdout",
     "output_type": "stream",
     "text": [
      "한라산은(는) 3일 걸립니다.\n",
      "선글라스, 카메라를(을) 가져오십시오.\n"
     ]
    }
   ],
   "source": [
    "var trip2 = new Expedition(\"한라산\", 3, [\"선글라스\", \"카메라\"])\n",
    "trip2.print()"
   ]
  },
  {
   "cell_type": "markdown",
   "metadata": {},
   "source": [
    "### ES6 Module\n",
    "\n",
    "ES6부터는 자바스크립트 자체에서 모듈을 지원한다.\n",
    "- export를 사용해 다른 모듈에서 활용할 수 있도록 함수, 객체, 변수, 상수 등을 외부에 export할 수 있다."
   ]
  },
  {
   "cell_type": "code",
   "execution_count": null,
   "metadata": {},
   "outputs": [],
   "source": [
    "// text-helpers.js\n",
    "// print 함수와 log 함수는 외부에 export 된다.\n",
    "// export를 하지 않은 함수가 있다면 모듈 내부에서만 사용할 수 있다.\n",
    "export var print(message) => log(message, new Date())\n",
    "\n",
    "export var log(message, timestamp) => \n",
    "    console.log(`${timestamp.toString()}: ${message}`)"
   ]
  },
  {
   "cell_type": "code",
   "execution_count": null,
   "metadata": {},
   "outputs": [],
   "source": [
    "// user.js\n",
    "// 하나의 이름만 외부에 export 하고 싶을 때는 default 사용\n",
    "var user = new Expedition(\"홍길동\", 2, [\"물\", \"장갑\"])\n",
    "\n",
    "export default user"
   ]
  },
  {
   "cell_type": "markdown",
   "metadata": {},
   "source": [
    "- import 명령을 통해 다른 자바스크립트 파일을 불러와 사용할 수 있다."
   ]
  },
  {
   "cell_type": "code",
   "execution_count": null,
   "metadata": {},
   "outputs": [],
   "source": [
    "import { print, log } from './text-helpers'\n",
    "import user from './user'\n",
    "\n",
    "print('메시지 출력')\n",
    "log('메시지 로그')\n",
    "\n",
    "user.print()"
   ]
  },
  {
   "cell_type": "code",
   "execution_count": null,
   "metadata": {},
   "outputs": [],
   "source": [
    "// alias\n",
    "import {print as p, log as l} from './text-helpers'\n",
    "\n",
    "p('메시지 출력')\n",
    "l('메시지 로그')"
   ]
  },
  {
   "cell_type": "markdown",
   "metadata": {},
   "source": [
    "### CommonJS\n",
    "\n",
    "커먼JS: 노드에서 지원하는 일반적인 모듈 패턴.\n",
    "- module.exports를 이용해서 export 한다."
   ]
  },
  {
   "cell_type": "code",
   "execution_count": null,
   "metadata": {},
   "outputs": [],
   "source": [
    "// text-helpers.js\n",
    "const var print(message) => log(message, new Date())\n",
    "\n",
    "const var log(message, timestamp) => \n",
    "    console.log(`${timestamp.toString()}: ${message}`)\n",
    "\n",
    "module.exports = {print, log}"
   ]
  },
  {
   "cell_type": "markdown",
   "metadata": {},
   "source": [
    "- require 함수를 통해 import 한다."
   ]
  },
  {
   "cell_type": "code",
   "execution_count": null,
   "metadata": {},
   "outputs": [],
   "source": [
    "const { log, print } = require('/txt-helpers')"
   ]
  }
 ],
 "metadata": {
  "kernelspec": {
   "display_name": "Javascript (Node.js)",
   "language": "javascript",
   "name": "javascript"
  },
  "language_info": {
   "file_extension": ".js",
   "mimetype": "application/javascript",
   "name": "javascript",
   "version": "8.11.2"
  },
  "toc": {
   "base_numbering": 1,
   "nav_menu": {},
   "number_sections": false,
   "sideBar": true,
   "skip_h1_title": false,
   "title_cell": "Table of Contents",
   "title_sidebar": "Contents",
   "toc_cell": false,
   "toc_position": {},
   "toc_section_display": true,
   "toc_window_display": false
  }
 },
 "nbformat": 4,
 "nbformat_minor": 2
}
