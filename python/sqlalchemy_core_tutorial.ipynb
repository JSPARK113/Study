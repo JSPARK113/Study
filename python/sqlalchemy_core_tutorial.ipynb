{
 "cells": [
  {
   "cell_type": "markdown",
   "metadata": {},
   "source": [
    "# SQLAlchemy Core 튜토리얼"
   ]
  },
  {
   "cell_type": "markdown",
   "metadata": {},
   "source": [
    "ORM은 domain model의 관점에서 데이터에 접근하지만, 표현식 언어(Core 방식)는 데이터베이스에서 사용되는 쿼리를 만들어준다.\n",
    "\n",
    "ORM을 사용해도 종종 특정 데이터베이스와 상호작용이 필요하면 표현식을 사용한다.\n",
    "\n",
    "![SQLAlchemy](http://docs.sqlalchemy.org/en/latest/_images/sqla_arch_small.png)"
   ]
  },
  {
   "cell_type": "code",
   "execution_count": 1,
   "metadata": {},
   "outputs": [],
   "source": [
    "from sqlalchemy import *"
   ]
  },
  {
   "cell_type": "markdown",
   "metadata": {},
   "source": [
    "## 데이터베이스 연결\n",
    "\n",
    "- `create_engine()`로 연결\n",
    "- 인수로 들어가는 URL: dialect[+driver]://user:password@host/dbname[?key=value..]"
   ]
  },
  {
   "cell_type": "code",
   "execution_count": 2,
   "metadata": {},
   "outputs": [],
   "source": [
    "engine = create_engine('sqlite:///:memory:', echo=True)"
   ]
  },
  {
   "cell_type": "markdown",
   "metadata": {},
   "source": [
    "## 테이블 정의하고 생성하기\n",
    "\n",
    "- 데이터베이스 메타데이터(MetaData) : Table 객체와 연결된 자식 객체의 집합\n",
    "- `Table` 구문으로 테이블을 정의한다."
   ]
  },
  {
   "cell_type": "code",
   "execution_count": 3,
   "metadata": {},
   "outputs": [],
   "source": [
    "# 테이블 모양 정의\n",
    "from sqlalchemy import Table, Column, Integer, String, MetaData, ForeignKey\n",
    "metadata = MetaData()\n",
    "users = Table('users', metadata,\n",
    "             Column('id', Integer, primary_key=True),\n",
    "             Column('name', String),\n",
    "             Column('fullname', String),\n",
    "             )\n",
    "\n",
    "addresses = Table('addresses', metadata,\n",
    "             Column('id', Integer, primary_key=True),\n",
    "             Column('user_id', None, ForeignKey('users.id')),\n",
    "             Column('email_address', String, nullable=False),\n",
    "             )"
   ]
  },
  {
   "cell_type": "code",
   "execution_count": 4,
   "metadata": {
    "scrolled": false
   },
   "outputs": [
    {
     "name": "stdout",
     "output_type": "stream",
     "text": [
      "2018-06-07 09:59:09,619 INFO sqlalchemy.engine.base.Engine SELECT CAST('test plain returns' AS VARCHAR(60)) AS anon_1\n",
      "2018-06-07 09:59:09,620 INFO sqlalchemy.engine.base.Engine ()\n",
      "2018-06-07 09:59:09,623 INFO sqlalchemy.engine.base.Engine SELECT CAST('test unicode returns' AS VARCHAR(60)) AS anon_1\n",
      "2018-06-07 09:59:09,624 INFO sqlalchemy.engine.base.Engine ()\n",
      "2018-06-07 09:59:09,625 INFO sqlalchemy.engine.base.Engine PRAGMA table_info(\"users\")\n",
      "2018-06-07 09:59:09,626 INFO sqlalchemy.engine.base.Engine ()\n",
      "2018-06-07 09:59:09,628 INFO sqlalchemy.engine.base.Engine PRAGMA table_info(\"addresses\")\n",
      "2018-06-07 09:59:09,629 INFO sqlalchemy.engine.base.Engine ()\n",
      "2018-06-07 09:59:09,630 INFO sqlalchemy.engine.base.Engine \n",
      "CREATE TABLE users (\n",
      "\tid INTEGER NOT NULL, \n",
      "\tname VARCHAR, \n",
      "\tfullname VARCHAR, \n",
      "\tPRIMARY KEY (id)\n",
      ")\n",
      "\n",
      "\n",
      "2018-06-07 09:59:09,631 INFO sqlalchemy.engine.base.Engine ()\n",
      "2018-06-07 09:59:09,632 INFO sqlalchemy.engine.base.Engine COMMIT\n",
      "2018-06-07 09:59:09,633 INFO sqlalchemy.engine.base.Engine \n",
      "CREATE TABLE addresses (\n",
      "\tid INTEGER NOT NULL, \n",
      "\tuser_id INTEGER, \n",
      "\temail_address VARCHAR NOT NULL, \n",
      "\tPRIMARY KEY (id), \n",
      "\tFOREIGN KEY(user_id) REFERENCES users (id)\n",
      ")\n",
      "\n",
      "\n",
      "2018-06-07 09:59:09,633 INFO sqlalchemy.engine.base.Engine ()\n",
      "2018-06-07 09:59:09,634 INFO sqlalchemy.engine.base.Engine COMMIT\n"
     ]
    }
   ],
   "source": [
    "# create_all 을 통해서 metadata에 있는 정보를 engine에 전달하고 테이블 생성\n",
    "metadata.create_all(engine)"
   ]
  },
  {
   "cell_type": "markdown",
   "metadata": {},
   "source": [
    "## INSERT 표현식\n",
    "- Insert Expressions\n",
    "- values에 컬럼 값을 지정해줘도, str()을 통해서 보면 보이지 않고, 실행되어야 보인다.  \n",
    "- 생성된 바인드 파라미터의 값은 `comile().params`를 통해 확인할 수 있다.\n",
    "- orm과 마찬가지로 실행하기 전까지는 데이터베이스에 반영되지 않는다.\n",
    "- 참고\n",
    "    - ORM에서는 `session`에 `add`를 하고, `commit`을 하면 행이 삽입됐다."
   ]
  },
  {
   "cell_type": "code",
   "execution_count": 5,
   "metadata": {
    "scrolled": false
   },
   "outputs": [
    {
     "data": {
      "text/plain": [
       "'INSERT INTO users (id, name, fullname) VALUES (:id, :name, :fullname)'"
      ]
     },
     "execution_count": 5,
     "metadata": {},
     "output_type": "execute_result"
    }
   ],
   "source": [
    "ins = users.insert()\n",
    "str(ins)"
   ]
  },
  {
   "cell_type": "code",
   "execution_count": 6,
   "metadata": {
    "scrolled": false
   },
   "outputs": [
    {
     "data": {
      "text/plain": [
       "'INSERT INTO users (name, fullname) VALUES (:name, :fullname)'"
      ]
     },
     "execution_count": 6,
     "metadata": {},
     "output_type": "execute_result"
    }
   ],
   "source": [
    "ins = users.insert().values(name='jack', fullname='Jack Jones')\n",
    "str(ins)"
   ]
  },
  {
   "cell_type": "markdown",
   "metadata": {},
   "source": [
    "## 실행\n",
    "\n",
    "- `execute()`\n",
    "- 실제 반영되는건 engine object에 연결한 후 실행할 때다.\n",
    "- engine 객체는 SQL을 DB에 보내기 위한 연결을 위한 장소. 연결을 위해 connect() 메서드 사용.\n",
    "- 아래에서 conn 객체는 DBAPI 연결 리소스를 나타낸다."
   ]
  },
  {
   "cell_type": "code",
   "execution_count": 7,
   "metadata": {
    "scrolled": true
   },
   "outputs": [
    {
     "data": {
      "text/plain": [
       "<sqlalchemy.engine.base.Connection at 0x111834710>"
      ]
     },
     "execution_count": 7,
     "metadata": {},
     "output_type": "execute_result"
    }
   ],
   "source": [
    "# engine에 연결\n",
    "conn = engine.connect()\n",
    "conn"
   ]
  },
  {
   "cell_type": "code",
   "execution_count": 8,
   "metadata": {
    "scrolled": true
   },
   "outputs": [
    {
     "name": "stdout",
     "output_type": "stream",
     "text": [
      "2018-06-07 09:59:16,631 INFO sqlalchemy.engine.base.Engine INSERT INTO users (name, fullname) VALUES (?, ?)\n",
      "2018-06-07 09:59:16,632 INFO sqlalchemy.engine.base.Engine ('jack', 'Jack Jones')\n",
      "2018-06-07 09:59:16,633 INFO sqlalchemy.engine.base.Engine COMMIT\n"
     ]
    }
   ],
   "source": [
    "# 데이터베이스에서 실행.\n",
    "result = conn.execute(ins)"
   ]
  },
  {
   "cell_type": "markdown",
   "metadata": {},
   "source": [
    "- `str()`으로 ins의 값을 확인할 때 '?'가 나오는 것은 명령문이 dialect를 모르고 명명된 파라미터를 사용하는 기본값으로 돌아가기 때문이다."
   ]
  },
  {
   "cell_type": "code",
   "execution_count": 9,
   "metadata": {},
   "outputs": [
    {
     "data": {
      "text/plain": [
       "'INSERT INTO users (name, fullname) VALUES (?, ?)'"
      ]
     },
     "execution_count": 9,
     "metadata": {},
     "output_type": "execute_result"
    }
   ],
   "source": [
    "ins.bind = engine\n",
    "str(ins)"
   ]
  },
  {
   "cell_type": "code",
   "execution_count": 10,
   "metadata": {},
   "outputs": [
    {
     "data": {
      "text/plain": [
       "<sqlalchemy.engine.result.ResultProxy at 0x111834c18>"
      ]
     },
     "execution_count": 10,
     "metadata": {},
     "output_type": "execute_result"
    }
   ],
   "source": [
    "# result는 DBAPI 커서 객체와 유사하다.\n",
    "result"
   ]
  },
  {
   "cell_type": "markdown",
   "metadata": {},
   "source": [
    "- primary_key를 명시적으로 지정하지 않았지만, 자동으로 생성됐다. 명시적으로 지정해줬으면 지정한 값이 들어간다."
   ]
  },
  {
   "cell_type": "code",
   "execution_count": 11,
   "metadata": {
    "scrolled": false
   },
   "outputs": [
    {
     "data": {
      "text/plain": [
       "[1]"
      ]
     },
     "execution_count": 11,
     "metadata": {},
     "output_type": "execute_result"
    }
   ],
   "source": [
    "result.inserted_primary_key"
   ]
  },
  {
   "cell_type": "code",
   "execution_count": 12,
   "metadata": {
    "scrolled": true
   },
   "outputs": [
    {
     "name": "stdout",
     "output_type": "stream",
     "text": [
      "2018-06-07 09:59:20,481 INFO sqlalchemy.engine.base.Engine INSERT INTO users (id, name, fullname) VALUES (?, ?, ?)\n",
      "2018-06-07 09:59:20,482 INFO sqlalchemy.engine.base.Engine (2, 'wendy', 'Wendy Williams')\n",
      "2018-06-07 09:59:20,483 INFO sqlalchemy.engine.base.Engine COMMIT\n"
     ]
    },
    {
     "data": {
      "text/plain": [
       "<sqlalchemy.engine.result.ResultProxy at 0x11186e400>"
      ]
     },
     "execution_count": 12,
     "metadata": {},
     "output_type": "execute_result"
    }
   ],
   "source": [
    "# 일반적인 insert() 구문의 사용\n",
    "ins = users.insert()\n",
    "conn.execute(ins, id=2, name='wendy', fullname='Wendy Williams')"
   ]
  },
  {
   "cell_type": "markdown",
   "metadata": {},
   "source": [
    "## 여러개의 명령문 실행\n",
    "- 딕셔너리의 리스트를 전달하면 여러 데이터를 한꺼번에 insert할 수 있다.\n",
    "- 딕셔너리로 리스트를 만들 때, 첫번째 딕셔너리의 키 값이 중요하다.\n",
    "    - 첫번째 딕셔너리의 키 값을 기준으로 명령문이 컴파일됨.\n",
    "    - 예를 들어, 첫번째 딕셔너리에 id, name을 인수로 사용하면, 그 이후도 모두 동일한 인수를 가져야 함."
   ]
  },
  {
   "cell_type": "code",
   "execution_count": 13,
   "metadata": {},
   "outputs": [
    {
     "name": "stdout",
     "output_type": "stream",
     "text": [
      "2018-06-07 09:59:22,331 INFO sqlalchemy.engine.base.Engine INSERT INTO addresses (user_id, email_address) VALUES (?, ?)\n",
      "2018-06-07 09:59:22,333 INFO sqlalchemy.engine.base.Engine ((1, 'jack@yahoo.com'), (1, 'jack@msn.com'), (2, 'www@www.org'), (2, 'wendy@aol.com'))\n",
      "2018-06-07 09:59:22,333 INFO sqlalchemy.engine.base.Engine COMMIT\n"
     ]
    },
    {
     "data": {
      "text/plain": [
       "<sqlalchemy.engine.result.ResultProxy at 0x11186e9e8>"
      ]
     },
     "execution_count": 13,
     "metadata": {},
     "output_type": "execute_result"
    }
   ],
   "source": [
    "conn.execute(addresses.insert(), [\n",
    "    {'user_id': 1, 'email_address' : 'jack@yahoo.com'},\n",
    "    {'user_id': 1, 'email_address' : 'jack@msn.com'},\n",
    "    {'user_id': 2, 'email_address' : 'www@www.org'},\n",
    "    {'user_id': 2, 'email_address' : 'wendy@aol.com'},\n",
    " ])"
   ]
  },
  {
   "cell_type": "markdown",
   "metadata": {},
   "source": [
    "## Selecting\n",
    "\n",
    "- `select()` 함수 사용"
   ]
  },
  {
   "cell_type": "code",
   "execution_count": 14,
   "metadata": {
    "scrolled": false
   },
   "outputs": [
    {
     "name": "stdout",
     "output_type": "stream",
     "text": [
      "2018-06-07 09:59:23,795 INFO sqlalchemy.engine.base.Engine SELECT users.id, users.name, users.fullname \n",
      "FROM users\n",
      "2018-06-07 09:59:23,796 INFO sqlalchemy.engine.base.Engine ()\n"
     ]
    }
   ],
   "source": [
    "from sqlalchemy.sql import select\n",
    "s = select([users])\n",
    "result = conn.execute(s)"
   ]
  },
  {
   "cell_type": "markdown",
   "metadata": {},
   "source": [
    "- select를 실행시키면 row가 튜플로 나옴.\n",
    "- 결과는 사용 후에 명확하게 닫아주는 것이 좋다."
   ]
  },
  {
   "cell_type": "code",
   "execution_count": 15,
   "metadata": {
    "scrolled": true
   },
   "outputs": [
    {
     "name": "stdout",
     "output_type": "stream",
     "text": [
      "(1, 'jack', 'Jack Jones')\n",
      "(2, 'wendy', 'Wendy Williams')\n"
     ]
    }
   ],
   "source": [
    "for row in result:\n",
    "    print(row)\n",
    "result.close()"
   ]
  },
  {
   "cell_type": "markdown",
   "metadata": {},
   "source": [
    "- `fetchone()`이나 `fetchall()`을 사용하면 딕셔너리로 가져올 수 있음.\n",
    "    - 문자열 이름을 이용한 딕셔너리 접근\n",
    "    - 정수 인덱스 사용\n",
    "    - 가장 좋은 방법 : column 객체를 직접 키로 사용하는 것(`테이블명.c.컬럼명`)"
   ]
  },
  {
   "cell_type": "code",
   "execution_count": 16,
   "metadata": {},
   "outputs": [
    {
     "name": "stdout",
     "output_type": "stream",
     "text": [
      "2018-06-07 09:59:26,282 INFO sqlalchemy.engine.base.Engine SELECT users.id, users.name, users.fullname \n",
      "FROM users\n",
      "2018-06-07 09:59:26,283 INFO sqlalchemy.engine.base.Engine ()\n",
      "name: jack ; fullname: Jack Jones\n",
      "name: jack ; fullname: Jack Jones\n"
     ]
    }
   ],
   "source": [
    "row = conn.execute(s).fetchone()\n",
    "# 컬럼 이름 사용\n",
    "print(\"name:\", row['name'], \"; fullname:\", row['fullname'])\n",
    "# 인덱스 사용\n",
    "print(\"name:\", row[1], \"; fullname:\", row[2])"
   ]
  },
  {
   "cell_type": "code",
   "execution_count": 17,
   "metadata": {
    "scrolled": true
   },
   "outputs": [
    {
     "name": "stdout",
     "output_type": "stream",
     "text": [
      "2018-06-07 09:59:26,707 INFO sqlalchemy.engine.base.Engine SELECT users.id, users.name, users.fullname \n",
      "FROM users\n",
      "2018-06-07 09:59:26,707 INFO sqlalchemy.engine.base.Engine ()\n",
      "name: jack ; fullname: Jack Jones\n",
      "name: wendy ; fullname: Wendy Williams\n"
     ]
    }
   ],
   "source": [
    "# 컬럼을 키로 사용\n",
    "for row in conn.execute(s):\n",
    "    print(\"name:\", row[users.c.name], \"; fullname:\", row[users.c.fullname])"
   ]
  },
  {
   "cell_type": "markdown",
   "metadata": {},
   "source": [
    "- 컬럼을 지정할 수 있다."
   ]
  },
  {
   "cell_type": "code",
   "execution_count": 18,
   "metadata": {},
   "outputs": [
    {
     "name": "stdout",
     "output_type": "stream",
     "text": [
      "2018-06-07 09:59:28,768 INFO sqlalchemy.engine.base.Engine SELECT users.name, users.fullname \n",
      "FROM users\n",
      "2018-06-07 09:59:28,769 INFO sqlalchemy.engine.base.Engine ()\n"
     ]
    },
    {
     "data": {
      "text/plain": [
       "[('jack', 'Jack Jones'), ('wendy', 'Wendy Williams')]"
      ]
     },
     "execution_count": 18,
     "metadata": {},
     "output_type": "execute_result"
    }
   ],
   "source": [
    "# id를 제외한 name, fullname만 선택\n",
    "s = select([users.c.name, users.c.fullname])\n",
    "conn.execute(s).fetchall()"
   ]
  },
  {
   "cell_type": "markdown",
   "metadata": {},
   "source": [
    "- 두 테이블을 한꺼번에 select하면 Cartesian Product가 나온다."
   ]
  },
  {
   "cell_type": "code",
   "execution_count": 19,
   "metadata": {
    "scrolled": true
   },
   "outputs": [
    {
     "name": "stdout",
     "output_type": "stream",
     "text": [
      "2018-06-07 09:59:30,131 INFO sqlalchemy.engine.base.Engine SELECT users.id, users.name, users.fullname, addresses.id, addresses.user_id, addresses.email_address \n",
      "FROM users, addresses\n",
      "2018-06-07 09:59:30,132 INFO sqlalchemy.engine.base.Engine ()\n"
     ]
    },
    {
     "data": {
      "text/plain": [
       "[(1, 'jack', 'Jack Jones', 1, 1, 'jack@yahoo.com'),\n",
       " (1, 'jack', 'Jack Jones', 2, 1, 'jack@msn.com'),\n",
       " (1, 'jack', 'Jack Jones', 3, 2, 'www@www.org'),\n",
       " (1, 'jack', 'Jack Jones', 4, 2, 'wendy@aol.com'),\n",
       " (2, 'wendy', 'Wendy Williams', 1, 1, 'jack@yahoo.com'),\n",
       " (2, 'wendy', 'Wendy Williams', 2, 1, 'jack@msn.com'),\n",
       " (2, 'wendy', 'Wendy Williams', 3, 2, 'www@www.org'),\n",
       " (2, 'wendy', 'Wendy Williams', 4, 2, 'wendy@aol.com')]"
      ]
     },
     "execution_count": 19,
     "metadata": {},
     "output_type": "execute_result"
    }
   ],
   "source": [
    "s = select([users, addresses])\n",
    "conn.execute(s).fetchall()"
   ]
  },
  {
   "cell_type": "markdown",
   "metadata": {},
   "source": [
    "- `where(users.c.id == addresses.c.user_id)`를 추가하면 foriegn key가 적용된 행만 선택된다.\n",
    "- `==`의 사용에 대해서는 아래에서 더 자세히 살펴본다."
   ]
  },
  {
   "cell_type": "code",
   "execution_count": 20,
   "metadata": {},
   "outputs": [
    {
     "name": "stdout",
     "output_type": "stream",
     "text": [
      "2018-06-07 09:59:32,031 INFO sqlalchemy.engine.base.Engine SELECT users.id, users.name, users.fullname, addresses.id, addresses.user_id, addresses.email_address \n",
      "FROM users, addresses \n",
      "WHERE users.id = addresses.user_id\n",
      "2018-06-07 09:59:32,032 INFO sqlalchemy.engine.base.Engine ()\n"
     ]
    },
    {
     "data": {
      "text/plain": [
       "[(1, 'jack', 'Jack Jones', 1, 1, 'jack@yahoo.com'),\n",
       " (1, 'jack', 'Jack Jones', 2, 1, 'jack@msn.com'),\n",
       " (2, 'wendy', 'Wendy Williams', 3, 2, 'www@www.org'),\n",
       " (2, 'wendy', 'Wendy Williams', 4, 2, 'wendy@aol.com')]"
      ]
     },
     "execution_count": 20,
     "metadata": {},
     "output_type": "execute_result"
    }
   ],
   "source": [
    "s = select([users, addresses]).where(users.c.id == addresses.c.user_id)\n",
    "conn.execute(s).fetchall()"
   ]
  },
  {
   "cell_type": "markdown",
   "metadata": {},
   "source": [
    "## 연산자\n",
    "- Operators\n",
    "    - Operator Customization"
   ]
  },
  {
   "cell_type": "markdown",
   "metadata": {},
   "source": [
    "- ColumnElement 클래스\n",
    "- `==`으로 2개 컬럼을 비교하면 `True`, `False`가 아니라 SQL이 생성된다."
   ]
  },
  {
   "cell_type": "code",
   "execution_count": 21,
   "metadata": {
    "scrolled": false
   },
   "outputs": [
    {
     "name": "stdout",
     "output_type": "stream",
     "text": [
      "users.id = addresses.user_id\n"
     ]
    }
   ],
   "source": [
    "print(users.c.id == addresses.c.user_id)"
   ]
  },
  {
   "cell_type": "markdown",
   "metadata": {},
   "source": [
    "- 리터럴 값을 사용하면, 바인드 파라미터를 얻는다."
   ]
  },
  {
   "cell_type": "code",
   "execution_count": 22,
   "metadata": {
    "scrolled": true
   },
   "outputs": [
    {
     "name": "stdout",
     "output_type": "stream",
     "text": [
      "users.id = :id_1\n"
     ]
    },
    {
     "data": {
      "text/plain": [
       "{'id_1': 7}"
      ]
     },
     "execution_count": 22,
     "metadata": {},
     "output_type": "execute_result"
    }
   ],
   "source": [
    "# 7은 ColumnElement 결과에 포함됨.\n",
    "print(users.c.id == 7)\n",
    "(users.c.id == 7).compile().params"
   ]
  },
  {
   "cell_type": "code",
   "execution_count": 23,
   "metadata": {},
   "outputs": [
    {
     "name": "stdout",
     "output_type": "stream",
     "text": [
      "users.id != :id_1\n",
      "users.name IS NULL\n",
      "users.name < :name_1\n"
     ]
    }
   ],
   "source": [
    "# 같지 않다.\n",
    "print(users.c.id != 7)\n",
    "# 같다.\n",
    "print(users.c.name == None)\n",
    "# 크다/작다.\n",
    "print('fred' > users.c.name)"
   ]
  },
  {
   "cell_type": "code",
   "execution_count": 24,
   "metadata": {},
   "outputs": [
    {
     "name": "stdout",
     "output_type": "stream",
     "text": [
      "users.id + addresses.id\n",
      "users.name || users.fullname\n"
     ]
    }
   ],
   "source": [
    "# 더하기(+)는 데이터 타입에 따라 표현이 달라진다.\n",
    "# 숫자 : 더하기\n",
    "print(users.c.id + addresses.c.id)\n",
    "# 문자 : 문자열 연결 연산자인 \" || \"\n",
    "print(users.c.name + users.c.fullname)"
   ]
  },
  {
   "cell_type": "markdown",
   "metadata": {},
   "source": [
    "- 사용할 수 없는 연산자는 Operators.op 메서드를 이용해서 만들 수 있다.\n",
    "- 불린 자료형 연산자는 `Operators.bool_op` 메서드 사용\n",
    "- 연산자 사용자 지정도 제공."
   ]
  },
  {
   "cell_type": "code",
   "execution_count": 25,
   "metadata": {
    "scrolled": false
   },
   "outputs": [
    {
     "name": "stdout",
     "output_type": "stream",
     "text": [
      "users.name ++++ :name_1\n"
     ]
    }
   ],
   "source": [
    "print(users.c.name.op('++++')('foo'))"
   ]
  },
  {
   "cell_type": "markdown",
   "metadata": {},
   "source": [
    "## Conjunction\n",
    "\n",
    "- AND : .and_, &\n",
    "- OR : .or_, |\n",
    "- NOT : .not_, ~"
   ]
  },
  {
   "cell_type": "code",
   "execution_count": 26,
   "metadata": {},
   "outputs": [],
   "source": [
    "from sqlalchemy.sql import and_, or_, not_"
   ]
  },
  {
   "cell_type": "code",
   "execution_count": 27,
   "metadata": {},
   "outputs": [
    {
     "name": "stdout",
     "output_type": "stream",
     "text": [
      "users.name LIKE :name_1 AND users.id = addresses.user_id AND (addresses.email_address = :email_address_1 OR addresses.email_address = :email_address_2) AND users.id <= :id_1\n"
     ]
    }
   ],
   "source": [
    "print(and_(\n",
    "        users.c.name.like('j%'),\n",
    "        users.c.id == addresses.c.user_id,\n",
    "        or_(\n",
    "             addresses.c.email_address == 'wendy@aol.com',\n",
    "             addresses.c.email_address == 'jack@yahoo.com'\n",
    "        ),\n",
    "        not_(users.c.id > 5)\n",
    "      )\n",
    " )"
   ]
  },
  {
   "cell_type": "code",
   "execution_count": 28,
   "metadata": {},
   "outputs": [
    {
     "name": "stdout",
     "output_type": "stream",
     "text": [
      "users.name LIKE :name_1 AND users.id = addresses.user_id AND (addresses.email_address = :email_address_1 OR addresses.email_address = :email_address_2) AND users.id <= :id_1\n"
     ]
    }
   ],
   "source": [
    "print(users.c.name.like('j%') & (users.c.id == addresses.c.user_id) &\n",
    "    (\n",
    "      (addresses.c.email_address == 'wendy@aol.com') | \\\n",
    "      (addresses.c.email_address == 'jack@yahoo.com')\n",
    "    ) \\\n",
    "    & ~(users.c.id>5)\n",
    ")"
   ]
  },
  {
   "cell_type": "markdown",
   "metadata": {},
   "source": [
    "## SQL 문자열 직접 사용하기\n",
    "\n",
    "- text() 함수를 사용해서 SQL 문자열을 직접 사용할 수 있다.\n",
    "- 바인드 파라미터를 사용할 수 있다. 파라미터의 타입을 지정할 수도 있다.\n",
    "- 결과 컬럼 지정\n",
    "- 명령문 안에서 `text()` 사용"
   ]
  },
  {
   "cell_type": "code",
   "execution_count": 29,
   "metadata": {},
   "outputs": [
    {
     "name": "stdout",
     "output_type": "stream",
     "text": [
      "2018-06-07 09:59:42,972 INFO sqlalchemy.engine.base.Engine SELECT users.fullname || ', ' || addresses.email_address AS title FROM users, addresses WHERE users.id = addresses.user_id AND users.name BETWEEN ? AND ? AND (addresses.email_address LIKE ? OR addresses.email_address LIKE ?)\n",
      "2018-06-07 09:59:42,973 INFO sqlalchemy.engine.base.Engine ('m', 'z', '%@aol.com', '%@msn.com')\n"
     ]
    },
    {
     "data": {
      "text/plain": [
       "[('Wendy Williams, wendy@aol.com',)]"
      ]
     },
     "execution_count": 29,
     "metadata": {},
     "output_type": "execute_result"
    }
   ],
   "source": [
    "from sqlalchemy.sql import text\n",
    "s = text(\n",
    "    \"SELECT users.fullname || ', ' || addresses.email_address AS title \"\n",
    "        \"FROM users, addresses \"\n",
    "        \"WHERE users.id = addresses.user_id \"\n",
    "        \"AND users.name BETWEEN :x AND :y \"\n",
    "        \"AND (addresses.email_address LIKE :e1 \"\n",
    "            \"OR addresses.email_address LIKE :e2)\")\n",
    "conn.execute(s, x='m', y='z', e1='%@aol.com', e2='%@msn.com').fetchall()"
   ]
  },
  {
   "cell_type": "code",
   "execution_count": 30,
   "metadata": {},
   "outputs": [],
   "source": [
    "# 바인드 파라미터\n",
    "stmt = text(\"SELECT * FROM users WHERE users.name BETWEEN :x AND :y\")\n",
    "stmt = stmt.bindparams(x=\"m\", y=\"z\")"
   ]
  },
  {
   "cell_type": "code",
   "execution_count": 31,
   "metadata": {},
   "outputs": [
    {
     "name": "stdout",
     "output_type": "stream",
     "text": [
      "2018-06-07 09:59:45,070 INFO sqlalchemy.engine.base.Engine SELECT * FROM users WHERE users.name BETWEEN ? AND ?\n",
      "2018-06-07 09:59:45,072 INFO sqlalchemy.engine.base.Engine ('m', 'z')\n"
     ]
    },
    {
     "data": {
      "text/plain": [
       "<sqlalchemy.engine.result.ResultProxy at 0x11187e9b0>"
      ]
     },
     "execution_count": 31,
     "metadata": {},
     "output_type": "execute_result"
    }
   ],
   "source": [
    "# 바인드 파라미터의 데이터 타입 지정\n",
    "stmt = stmt.bindparams(bindparam(\"x\", String), bindparam(\"y\", String))\n",
    "conn.execute(stmt, {\"x\": \"m\", \"y\": \"z\"})"
   ]
  },
  {
   "cell_type": "code",
   "execution_count": 32,
   "metadata": {},
   "outputs": [
    {
     "name": "stdout",
     "output_type": "stream",
     "text": [
      "2018-06-07 09:59:45,548 INFO sqlalchemy.engine.base.Engine SELECT users.id, addresses.id, users.id, users.name, addresses.email_address AS email FROM users JOIN addresses ON users.id=addresses.user_id WHERE users.id = 1\n",
      "2018-06-07 09:59:45,549 INFO sqlalchemy.engine.base.Engine ()\n"
     ]
    }
   ],
   "source": [
    "stmt = text(\"SELECT users.id, addresses.id, users.id, \"\n",
    "    \"users.name, addresses.email_address AS email \"\n",
    "    \"FROM users JOIN addresses ON users.id=addresses.user_id \"\n",
    "    \"WHERE users.id = 1\").columns(\n",
    "       users.c.id,\n",
    "       addresses.c.id,\n",
    "       addresses.c.user_id,\n",
    "       users.c.name,\n",
    "       addresses.c.email_address\n",
    "    )\n",
    "result = conn.execute(stmt)"
   ]
  },
  {
   "cell_type": "code",
   "execution_count": 33,
   "metadata": {},
   "outputs": [
    {
     "data": {
      "text/plain": [
       "'jack@yahoo.com'"
      ]
     },
     "execution_count": 33,
     "metadata": {},
     "output_type": "execute_result"
    }
   ],
   "source": [
    "row = result.fetchone()\n",
    "row[addresses.c.email_address]"
   ]
  },
  {
   "cell_type": "code",
   "execution_count": 34,
   "metadata": {},
   "outputs": [
    {
     "name": "stdout",
     "output_type": "stream",
     "text": [
      "2018-06-07 09:59:47,519 INFO sqlalchemy.engine.base.Engine SELECT users.id, users.name, users.fullname, addresses.id, addresses.user_id, addresses.email_address \n",
      "FROM users, addresses \n",
      "WHERE users.id = addresses.user_id\n",
      "2018-06-07 09:59:47,520 INFO sqlalchemy.engine.base.Engine ()\n"
     ]
    },
    {
     "data": {
      "text/plain": [
       "[(1, 'jack', 'Jack Jones', 1, 1, 'jack@yahoo.com'),\n",
       " (1, 'jack', 'Jack Jones', 2, 1, 'jack@msn.com'),\n",
       " (2, 'wendy', 'Wendy Williams', 3, 2, 'www@www.org'),\n",
       " (2, 'wendy', 'Wendy Williams', 4, 2, 'wendy@aol.com')]"
      ]
     },
     "execution_count": 34,
     "metadata": {},
     "output_type": "execute_result"
    }
   ],
   "source": [
    "# 일부만 text() 사용\n",
    "s = select([users, addresses]).where(text(\"users.id = addresses.user_id\"))\n",
    "conn.execute(s).fetchall()"
   ]
  },
  {
   "cell_type": "markdown",
   "metadata": {},
   "source": [
    "### 앨리어스(Alias) 사용하기\n",
    "- AS 절과 같은 역할\n",
    "- `alias()`"
   ]
  },
  {
   "cell_type": "code",
   "execution_count": 35,
   "metadata": {
    "scrolled": true
   },
   "outputs": [
    {
     "name": "stdout",
     "output_type": "stream",
     "text": [
      "2018-06-07 09:59:49,384 INFO sqlalchemy.engine.base.Engine SELECT users.id, users.name, users.fullname \n",
      "FROM users, addresses AS a1, addresses AS addresses_1 \n",
      "WHERE users.id = a1.user_id AND users.id = addresses_1.user_id AND a1.email_address = ? AND addresses_1.email_address = ?\n",
      "2018-06-07 09:59:49,385 INFO sqlalchemy.engine.base.Engine ('jack@msn.com', 'jack@yahoo.com')\n"
     ]
    },
    {
     "data": {
      "text/plain": [
       "[(1, 'jack', 'Jack Jones')]"
      ]
     },
     "execution_count": 35,
     "metadata": {},
     "output_type": "execute_result"
    }
   ],
   "source": [
    "a1 = addresses.alias('a1')\n",
    "a2 = addresses.alias()\n",
    "# 참고 - orm에서의 alias\n",
    "# adalias1 = aliased(Address)\n",
    "s = select([users]).\\\n",
    "        where(and_(\n",
    "            users.c.id == a1.c.user_id, # 이름이 'a1'으로 지정됨. \n",
    "            users.c.id == a2.c.user_id, # 이름을 지정하지 않아서 'addresses_1'으로 자동생성.\n",
    "            a1.c.email_address == 'jack@msn.com',\n",
    "            a2.c.email_address == 'jack@yahoo.com'\n",
    "        ))\n",
    "conn.execute(s).fetchall()"
   ]
  },
  {
   "cell_type": "markdown",
   "metadata": {},
   "source": [
    "## JOIN 사용하기\n",
    "- `select` 안에서 사용 시 `select_from` 메서드를 사용한다.\n",
    "    - `join()` : JOIN\n",
    "    - `outerjoin()` : LEFT OUTER JOIN"
   ]
  },
  {
   "cell_type": "code",
   "execution_count": 36,
   "metadata": {
    "scrolled": true
   },
   "outputs": [
    {
     "name": "stdout",
     "output_type": "stream",
     "text": [
      "users JOIN addresses ON users.id = addresses.user_id\n"
     ]
    }
   ],
   "source": [
    "print(users.join(addresses))"
   ]
  },
  {
   "cell_type": "code",
   "execution_count": 37,
   "metadata": {},
   "outputs": [
    {
     "name": "stdout",
     "output_type": "stream",
     "text": [
      "2018-06-07 09:59:51,545 INFO sqlalchemy.engine.base.Engine SELECT users.fullname, addresses.email_address \n",
      "FROM users JOIN addresses ON users.id = addresses.user_id\n",
      "2018-06-07 09:59:51,546 INFO sqlalchemy.engine.base.Engine ()\n"
     ]
    },
    {
     "data": {
      "text/plain": [
       "[('Jack Jones', 'jack@yahoo.com'),\n",
       " ('Jack Jones', 'jack@msn.com'),\n",
       " ('Wendy Williams', 'www@www.org'),\n",
       " ('Wendy Williams', 'wendy@aol.com')]"
      ]
     },
     "execution_count": 37,
     "metadata": {},
     "output_type": "execute_result"
    }
   ],
   "source": [
    "# select 안에서 사용하면 select_from 메서드를 사용한다.\n",
    "s = select([users.c.fullname, addresses.c.email_address]).select_from(\n",
    "   users.join(addresses)\n",
    "   )\n",
    "conn.execute(s).fetchall()"
   ]
  },
  {
   "cell_type": "markdown",
   "metadata": {},
   "source": [
    "- outerjoin 메서드를 사용하면 LEFT OUTER JOIN 생성"
   ]
  },
  {
   "cell_type": "code",
   "execution_count": 38,
   "metadata": {
    "scrolled": true
   },
   "outputs": [
    {
     "name": "stdout",
     "output_type": "stream",
     "text": [
      "users LEFT OUTER JOIN addresses ON users.id = addresses.user_id\n"
     ]
    }
   ],
   "source": [
    "print(users.outerjoin(addresses))"
   ]
  },
  {
   "cell_type": "code",
   "execution_count": 39,
   "metadata": {
    "scrolled": true
   },
   "outputs": [
    {
     "name": "stdout",
     "output_type": "stream",
     "text": [
      "2018-06-07 09:59:52,894 INFO sqlalchemy.engine.base.Engine SELECT users.fullname, addresses.email_address \n",
      "FROM users LEFT OUTER JOIN addresses ON users.id = addresses.user_id\n",
      "2018-06-07 09:59:52,895 INFO sqlalchemy.engine.base.Engine ()\n"
     ]
    },
    {
     "data": {
      "text/plain": [
       "[('Jack Jones', 'jack@msn.com'),\n",
       " ('Jack Jones', 'jack@yahoo.com'),\n",
       " ('Wendy Williams', 'wendy@aol.com'),\n",
       " ('Wendy Williams', 'www@www.org')]"
      ]
     },
     "execution_count": 39,
     "metadata": {},
     "output_type": "execute_result"
    }
   ],
   "source": [
    "s = select([users.c.fullname, addresses.c.email_address]).select_from(users.outerjoin(addresses))\n",
    "conn.execute(s).fetchall()"
   ]
  },
  {
   "cell_type": "markdown",
   "metadata": {},
   "source": [
    "## 바인드 파라미터 객체\n",
    "\n",
    "- `bindparam()`을 통해 바인드파라미터를 생성할 수 있다.\n",
    "- `type_`을 인수로 넣어서 데이터타입을 지정할 수 있다."
   ]
  },
  {
   "cell_type": "code",
   "execution_count": 40,
   "metadata": {},
   "outputs": [
    {
     "name": "stdout",
     "output_type": "stream",
     "text": [
      "2018-06-07 09:59:54,772 INFO sqlalchemy.engine.base.Engine SELECT users.id, users.name, users.fullname \n",
      "FROM users \n",
      "WHERE users.name = ?\n",
      "2018-06-07 09:59:54,773 INFO sqlalchemy.engine.base.Engine ('wendy',)\n"
     ]
    },
    {
     "data": {
      "text/plain": [
       "[(2, 'wendy', 'Wendy Williams')]"
      ]
     },
     "execution_count": 40,
     "metadata": {},
     "output_type": "execute_result"
    }
   ],
   "source": [
    "from sqlalchemy.sql import bindparam\n",
    "s = users.select(users.c.name == bindparam('username', type_=String))\n",
    "conn.execute(s, username='wendy').fetchall()"
   ]
  },
  {
   "cell_type": "markdown",
   "metadata": {},
   "source": [
    "## 함수\n",
    "\n",
    "- 함수는 `func` 키워드를 통해 사용한다.\n",
    "- 일반적으로 SELECT 문의 컬럼 절에서 사용한다.\n",
    "- 윈도우 함수 : OVER 절\n",
    "    - `FunctionElement.over()` 메서드로 사용한다."
   ]
  },
  {
   "cell_type": "code",
   "execution_count": 41,
   "metadata": {},
   "outputs": [],
   "source": [
    "from sqlalchemy.sql import func"
   ]
  },
  {
   "cell_type": "code",
   "execution_count": 42,
   "metadata": {
    "scrolled": false
   },
   "outputs": [
    {
     "name": "stdout",
     "output_type": "stream",
     "text": [
      "count(*)\n"
     ]
    }
   ],
   "source": [
    "print(func.count())"
   ]
  },
  {
   "cell_type": "code",
   "execution_count": 43,
   "metadata": {},
   "outputs": [
    {
     "name": "stdout",
     "output_type": "stream",
     "text": [
      "2018-06-07 09:59:58,674 INFO sqlalchemy.engine.base.Engine SELECT max(addresses.email_address) AS maxemail \n",
      "FROM addresses\n",
      "2018-06-07 09:59:58,675 INFO sqlalchemy.engine.base.Engine ()\n"
     ]
    },
    {
     "data": {
      "text/plain": [
       "'www@www.org'"
      ]
     },
     "execution_count": 43,
     "metadata": {},
     "output_type": "execute_result"
    }
   ],
   "source": [
    "# label은 결과 컬럼에 이름 생성. label을 붙이지 않으면 자동으로 컬럼이름이 생성됨.\n",
    "# scalar()를 이용해 첫 행의 첫 열을 읽은 후 결과를 닫음.\n",
    "conn.execute(\n",
    "    select([\n",
    "           func.max(addresses.c.email_address, type_=String).label('maxemail')\n",
    "          ])\n",
    "    ).scalar()"
   ]
  },
  {
   "cell_type": "code",
   "execution_count": 44,
   "metadata": {},
   "outputs": [
    {
     "name": "stdout",
     "output_type": "stream",
     "text": [
      "SELECT users.id, row_number() OVER (ORDER BY users.name) AS anon_1 \n",
      "FROM users\n"
     ]
    }
   ],
   "source": [
    "s = select([\n",
    "        users.c.id,\n",
    "        func.row_number().over(order_by=users.c.name)\n",
    "    ])\n",
    "print(s)"
   ]
  },
  {
   "cell_type": "markdown",
   "metadata": {},
   "source": [
    "## 집합 연산\n",
    "\n",
    "- 합집합: `union()`, `union_all()`\n",
    "- 교집합: `intersect()`, `intersect_all()`\n",
    "- 차집합: `except_()`, `except_all()`\n",
    "- `all`이 붙어있는 함수는 중복을 제거하지 않음."
   ]
  },
  {
   "cell_type": "code",
   "execution_count": 45,
   "metadata": {},
   "outputs": [
    {
     "name": "stdout",
     "output_type": "stream",
     "text": [
      "2018-06-07 10:00:00,735 INFO sqlalchemy.engine.base.Engine SELECT addresses.id, addresses.user_id, addresses.email_address \n",
      "FROM addresses \n",
      "WHERE addresses.email_address = ? UNION ALL SELECT addresses.id, addresses.user_id, addresses.email_address \n",
      "FROM addresses \n",
      "WHERE addresses.email_address LIKE ? ORDER BY addresses.email_address\n",
      "2018-06-07 10:00:00,736 INFO sqlalchemy.engine.base.Engine ('www@www.org', '%@yahoo.com')\n"
     ]
    },
    {
     "data": {
      "text/plain": [
       "[(1, 1, 'jack@yahoo.com'), (3, 2, 'www@www.org')]"
      ]
     },
     "execution_count": 45,
     "metadata": {},
     "output_type": "execute_result"
    }
   ],
   "source": [
    "from sqlalchemy.sql import union, union_all, except_, except_all\n",
    "\n",
    "u = union_all(\n",
    "    addresses.select().\n",
    "            where(addresses.c.email_address == 'www@www.org'),\n",
    "    addresses.select().\n",
    "            where(addresses.c.email_address.like('%@yahoo.com')),\n",
    ").order_by(addresses.c.email_address)\n",
    "\n",
    "conn.execute(u).fetchall()"
   ]
  },
  {
   "cell_type": "code",
   "execution_count": 46,
   "metadata": {},
   "outputs": [
    {
     "name": "stdout",
     "output_type": "stream",
     "text": [
      "2018-06-07 10:00:01,375 INFO sqlalchemy.engine.base.Engine SELECT addresses.id, addresses.user_id, addresses.email_address \n",
      "FROM addresses \n",
      "WHERE addresses.email_address LIKE ? EXCEPT SELECT addresses.id, addresses.user_id, addresses.email_address \n",
      "FROM addresses \n",
      "WHERE addresses.email_address LIKE ?\n",
      "2018-06-07 10:00:01,376 INFO sqlalchemy.engine.base.Engine ('%@%.com', '%@msn.com')\n"
     ]
    },
    {
     "data": {
      "text/plain": [
       "[(1, 1, 'jack@yahoo.com'), (4, 2, 'wendy@aol.com')]"
      ]
     },
     "execution_count": 46,
     "metadata": {},
     "output_type": "execute_result"
    }
   ],
   "source": [
    "from sqlalchemy.sql import except_\n",
    "u = except_(\n",
    "    addresses.select().\n",
    "             where(addresses.c.email_address.like('%@%.com')),\n",
    "    addresses.select().\n",
    "             where(addresses.c.email_address.like('%@msn.com'))\n",
    " )\n",
    "\n",
    "conn.execute(u).fetchall()"
   ]
  },
  {
   "cell_type": "markdown",
   "metadata": {},
   "source": [
    "## Scalar Selects\n",
    "- scalar select는 첫 행의 첫번째 컬럼을 반환한다.\n",
    "- `label()`을 이용해서 이름을 적용할 수 있다."
   ]
  },
  {
   "cell_type": "code",
   "execution_count": 47,
   "metadata": {},
   "outputs": [
    {
     "name": "stdout",
     "output_type": "stream",
     "text": [
      "2018-06-07 10:00:03,158 INFO sqlalchemy.engine.base.Engine SELECT users.name, (SELECT count(addresses.id) AS count_1 \n",
      "FROM addresses \n",
      "WHERE users.id = addresses.user_id) AS anon_1 \n",
      "FROM users\n",
      "2018-06-07 10:00:03,159 INFO sqlalchemy.engine.base.Engine ()\n"
     ]
    },
    {
     "data": {
      "text/plain": [
       "[('jack', 2), ('wendy', 2)]"
      ]
     },
     "execution_count": 47,
     "metadata": {},
     "output_type": "execute_result"
    }
   ],
   "source": [
    "stmt = select([func.count(addresses.c.id)]).\\\n",
    "            where(users.c.id == addresses.c.user_id).\\\n",
    "            as_scalar()\n",
    "conn.execute(select([users.c.name, stmt])).fetchall()"
   ]
  },
  {
   "cell_type": "markdown",
   "metadata": {},
   "source": [
    "## 상호연관 서브쿼리(Correlated Subquery)\n",
    "\n",
    "- 메인쿼리의 값을 서브쿼리가 사용하고, 서브쿼리가 수행한 결과를 다시 메인쿼리가 받아서 계산하는 구조\n",
    "- `correalate()` 메서드\n",
    "- LATERAL 상관관계 : `lateral()` 메서드"
   ]
  },
  {
   "cell_type": "code",
   "execution_count": 48,
   "metadata": {
    "scrolled": true
   },
   "outputs": [
    {
     "name": "stdout",
     "output_type": "stream",
     "text": [
      "2018-06-07 10:00:04,020 INFO sqlalchemy.engine.base.Engine SELECT users.name \n",
      "FROM users \n",
      "WHERE users.id = (SELECT addresses.user_id \n",
      "FROM addresses \n",
      "WHERE addresses.user_id = users.id AND addresses.email_address = ?)\n",
      "2018-06-07 10:00:04,021 INFO sqlalchemy.engine.base.Engine ('jack@yahoo.com',)\n"
     ]
    },
    {
     "data": {
      "text/plain": [
       "[('jack',)]"
      ]
     },
     "execution_count": 48,
     "metadata": {},
     "output_type": "execute_result"
    }
   ],
   "source": [
    "stmt = select([addresses.c.user_id]).\\\n",
    "            where(addresses.c.user_id == users.c.id).\\\n",
    "            where(addresses.c.email_address == 'jack@yahoo.com')\n",
    "enclosing_stmt = select([users.c.name]).where(users.c.id == stmt)\n",
    "conn.execute(enclosing_stmt).fetchall()"
   ]
  },
  {
   "cell_type": "code",
   "execution_count": 49,
   "metadata": {},
   "outputs": [
    {
     "name": "stdout",
     "output_type": "stream",
     "text": [
      "2018-06-07 10:00:05,798 INFO sqlalchemy.engine.base.Engine SELECT users.name, addresses.email_address \n",
      "FROM users JOIN addresses ON users.id = addresses.user_id \n",
      "WHERE users.id = (SELECT users.id \n",
      "FROM users \n",
      "WHERE users.id = addresses.user_id AND users.name = ?)\n",
      "2018-06-07 10:00:05,799 INFO sqlalchemy.engine.base.Engine ('jack',)\n"
     ]
    },
    {
     "data": {
      "text/plain": [
       "[('jack', 'jack@yahoo.com'), ('jack', 'jack@msn.com')]"
      ]
     },
     "execution_count": 49,
     "metadata": {},
     "output_type": "execute_result"
    }
   ],
   "source": [
    "# correalate() 메서드\n",
    "stmt = select([users.c.id]).\\\n",
    "            where(users.c.id == addresses.c.user_id).\\\n",
    "            where(users.c.name == 'jack').\\\n",
    "            correlate(addresses)\n",
    "enclosing_stmt = select(\n",
    "        [users.c.name, addresses.c.email_address]).\\\n",
    "    select_from(users.join(addresses)).\\\n",
    "    where(users.c.id == stmt)\n",
    "conn.execute(enclosing_stmt).fetchall()"
   ]
  },
  {
   "cell_type": "markdown",
   "metadata": {},
   "source": [
    "- LATERAL 상관관계\n",
    "    - `table1 JOIN LATERAL (some SELECT) AS subquery`와 같은 쿼리\n",
    "    - join을 lateral과 함께 사용하면, 서브쿼리 안에 없는 테이블까지 참조할 수 있다. 그래서 일종의 상관관계라고 할 수 있다.\n",
    "    - 아래 예에서 JOIN에 LATERAL을 사용했기 때문에 서브쿼리의 SELECT가 서브쿼리 밖에 있는 people 테이블을 참조할 수 있다.\n",
    "    ```\n",
    "    SELECT people.people_id, people.age, people.name \n",
    "    FROM people JOIN LATERAL (SELECT books.book_id AS book_id \n",
    "    FROM books \n",
    "    WHERE books.owner_id = people.people_id) AS book_subq ON true\n",
    "    ```\n",
    "    - LATERAL은 원래 JOIN과 함께만 사용되는 것은 아니다. 서브쿼리와 함께 사용된다.\n",
    "    \n",
    "    - 참고 링크\n",
    "        1. [LATERAL join](https://heapanalytics.com/blog/engineering/postgresqls-powerful-new-join-type-lateral)\n",
    "        2. [LATERAL Subqueries](https://www.postgresql.org/docs/current/static/queries-table-expressions.html#QUERIES-LATERAL)\n",
    "        3. [stack overflow: difference between LATERAL and a subquery in PostgreSQL](https://stackoverflow.com/questions/28550679/what-is-the-difference-between-lateral-and-a-subquery-in-postgresql)"
   ]
  },
  {
   "cell_type": "code",
   "execution_count": 50,
   "metadata": {},
   "outputs": [
    {
     "name": "stdout",
     "output_type": "stream",
     "text": [
      "SELECT people.people_id, people.age, people.name \n",
      "FROM people JOIN LATERAL (SELECT books.book_id AS book_id \n",
      "FROM books \n",
      "WHERE books.owner_id = people.people_id) AS book_subq ON true\n"
     ]
    }
   ],
   "source": [
    "from sqlalchemy import table, column, select, true\n",
    "people = table('people', column('people_id'), column('age'), column('name'))\n",
    "books = table('books', column('book_id'), column('owner_id'))\n",
    "subq = select([books.c.book_id]).\\\n",
    "     where(books.c.owner_id == people.c.people_id).lateral(\"book_subq\")\n",
    "print(select([people]).select_from(people.join(subq, true())))"
   ]
  },
  {
   "cell_type": "markdown",
   "metadata": {},
   "source": [
    "## Ordering, Grouping, Limiting, Offset\n",
    "\n",
    "- 정렬(ORDER BY) : `order_by()`\n",
    "    - 오름차순/내림차순 : `asc()`, `desc()` 수정자\n",
    "- 그룹화(GROUP BY) : `group_by()`\n",
    "    - HAVING : `having()`\n",
    "- 중복제거(DISTINCT) : `distinct()`\n",
    "- LIMIT : `limit()`\n",
    "- OFFSET : `offset()`"
   ]
  },
  {
   "cell_type": "code",
   "execution_count": 51,
   "metadata": {
    "scrolled": true
   },
   "outputs": [
    {
     "name": "stdout",
     "output_type": "stream",
     "text": [
      "2018-06-07 10:00:12,382 INFO sqlalchemy.engine.base.Engine SELECT users.name \n",
      "FROM users ORDER BY users.name DESC\n",
      "2018-06-07 10:00:12,383 INFO sqlalchemy.engine.base.Engine ()\n"
     ]
    },
    {
     "data": {
      "text/plain": [
       "[('wendy',), ('jack',)]"
      ]
     },
     "execution_count": 51,
     "metadata": {},
     "output_type": "execute_result"
    }
   ],
   "source": [
    "# ORDER BY\n",
    "stmt = select([users.c.name]).order_by(users.c.name.desc())\n",
    "conn.execute(stmt).fetchall()"
   ]
  },
  {
   "cell_type": "code",
   "execution_count": 52,
   "metadata": {},
   "outputs": [
    {
     "name": "stdout",
     "output_type": "stream",
     "text": [
      "2018-06-07 10:00:12,971 INFO sqlalchemy.engine.base.Engine SELECT users.name, count(addresses.id) AS count_1 \n",
      "FROM users JOIN addresses ON users.id = addresses.user_id GROUP BY users.name\n",
      "2018-06-07 10:00:12,972 INFO sqlalchemy.engine.base.Engine ()\n"
     ]
    },
    {
     "data": {
      "text/plain": [
       "[('jack', 2), ('wendy', 2)]"
      ]
     },
     "execution_count": 52,
     "metadata": {},
     "output_type": "execute_result"
    }
   ],
   "source": [
    "# GROUP BY\n",
    "stmt = select([users.c.name, func.count(addresses.c.id)]).\\\n",
    "            select_from(users.join(addresses)).\\\n",
    "            group_by(users.c.name)\n",
    "conn.execute(stmt).fetchall()"
   ]
  },
  {
   "cell_type": "code",
   "execution_count": 53,
   "metadata": {},
   "outputs": [
    {
     "name": "stdout",
     "output_type": "stream",
     "text": [
      "2018-06-07 10:00:14,509 INFO sqlalchemy.engine.base.Engine SELECT users.name, count(addresses.id) AS count_1 \n",
      "FROM users JOIN addresses ON users.id = addresses.user_id GROUP BY users.name \n",
      "HAVING length(users.name) > ?\n",
      "2018-06-07 10:00:14,510 INFO sqlalchemy.engine.base.Engine (4,)\n"
     ]
    },
    {
     "data": {
      "text/plain": [
       "[('wendy', 2)]"
      ]
     },
     "execution_count": 53,
     "metadata": {},
     "output_type": "execute_result"
    }
   ],
   "source": [
    "# GROUP BY에 HAVING 추가\n",
    "stmt = select([users.c.name, func.count(addresses.c.id)]).\\\n",
    "            select_from(users.join(addresses)).\\\n",
    "            group_by(users.c.name).\\\n",
    "            having(func.length(users.c.name) > 4)\n",
    "conn.execute(stmt).fetchall()"
   ]
  },
  {
   "cell_type": "code",
   "execution_count": 54,
   "metadata": {
    "scrolled": true
   },
   "outputs": [
    {
     "name": "stdout",
     "output_type": "stream",
     "text": [
      "2018-06-07 10:00:15,021 INFO sqlalchemy.engine.base.Engine SELECT DISTINCT users.name \n",
      "FROM users, addresses \n",
      "WHERE (addresses.email_address LIKE '%' || users.name || '%')\n",
      "2018-06-07 10:00:15,023 INFO sqlalchemy.engine.base.Engine ()\n"
     ]
    },
    {
     "data": {
      "text/plain": [
       "[('jack',), ('wendy',)]"
      ]
     },
     "execution_count": 54,
     "metadata": {},
     "output_type": "execute_result"
    }
   ],
   "source": [
    "# SELECT 문에서 사용되는 DISTINCT 수정자\n",
    "stmt = select([users.c.name]).\\\n",
    "            where(addresses.c.email_address.\n",
    "                   contains(users.c.name)).\\\n",
    "            distinct()\n",
    "conn.execute(stmt).fetchall()"
   ]
  },
  {
   "cell_type": "code",
   "execution_count": 55,
   "metadata": {},
   "outputs": [
    {
     "name": "stdout",
     "output_type": "stream",
     "text": [
      "2018-06-07 10:00:15,687 INFO sqlalchemy.engine.base.Engine SELECT users.name, addresses.email_address \n",
      "FROM users JOIN addresses ON users.id = addresses.user_id\n",
      " LIMIT ? OFFSET ?\n",
      "2018-06-07 10:00:15,688 INFO sqlalchemy.engine.base.Engine (1, 1)\n"
     ]
    },
    {
     "data": {
      "text/plain": [
       "[('jack', 'jack@msn.com')]"
      ]
     },
     "execution_count": 55,
     "metadata": {},
     "output_type": "execute_result"
    }
   ],
   "source": [
    "# LIMIT, OFFSET\n",
    "stmt = select([users.c.name, addresses.c.email_address]).\\\n",
    "            select_from(users.join(addresses)).\\\n",
    "            limit(1).offset(1)\n",
    "conn.execute(stmt).fetchall()"
   ]
  },
  {
   "cell_type": "markdown",
   "metadata": {},
   "source": [
    "## Updates\n",
    "\n",
    "- UPDATE: `update()`"
   ]
  },
  {
   "cell_type": "code",
   "execution_count": 56,
   "metadata": {
    "scrolled": true
   },
   "outputs": [
    {
     "name": "stdout",
     "output_type": "stream",
     "text": [
      "2018-06-07 10:00:17,070 INFO sqlalchemy.engine.base.Engine UPDATE users SET fullname=(? || users.name)\n",
      "2018-06-07 10:00:17,071 INFO sqlalchemy.engine.base.Engine ('Fullname: ',)\n",
      "2018-06-07 10:00:17,071 INFO sqlalchemy.engine.base.Engine COMMIT\n",
      "2018-06-07 10:00:17,073 INFO sqlalchemy.engine.base.Engine SELECT users.id, users.name, users.fullname \n",
      "FROM users\n",
      "2018-06-07 10:00:17,074 INFO sqlalchemy.engine.base.Engine ()\n"
     ]
    },
    {
     "data": {
      "text/plain": [
       "[(1, 'jack', 'Fullname: jack'), (2, 'wendy', 'Fullname: wendy')]"
      ]
     },
     "execution_count": 56,
     "metadata": {},
     "output_type": "execute_result"
    }
   ],
   "source": [
    "stmt = users.update().\\\n",
    "            values(fullname=\"Fullname: \" + users.c.name)\n",
    "conn.execute(stmt)\n",
    "conn.execute(users.select()).fetchall()"
   ]
  },
  {
   "cell_type": "code",
   "execution_count": 57,
   "metadata": {
    "scrolled": true
   },
   "outputs": [
    {
     "name": "stdout",
     "output_type": "stream",
     "text": [
      "2018-06-07 10:00:19,458 INFO sqlalchemy.engine.base.Engine INSERT INTO users (id, name) VALUES (?, (? || ?))\n",
      "2018-06-07 10:00:19,459 INFO sqlalchemy.engine.base.Engine ((4, 'name1', ' .. name'), (5, 'name2', ' .. name'), (6, 'name3', ' .. name'))\n",
      "2018-06-07 10:00:19,460 INFO sqlalchemy.engine.base.Engine COMMIT\n",
      "2018-06-07 10:00:19,462 INFO sqlalchemy.engine.base.Engine SELECT users.id, users.name, users.fullname \n",
      "FROM users\n",
      "2018-06-07 10:00:19,462 INFO sqlalchemy.engine.base.Engine ()\n"
     ]
    },
    {
     "data": {
      "text/plain": [
       "[(1, 'jack', 'Fullname: jack'),\n",
       " (2, 'wendy', 'Fullname: wendy'),\n",
       " (4, 'name1 .. name', None),\n",
       " (5, 'name2 .. name', None),\n",
       " (6, 'name3 .. name', None)]"
      ]
     },
     "execution_count": 57,
     "metadata": {},
     "output_type": "execute_result"
    }
   ],
   "source": [
    "# bindparam()을 사용해서 여러 행 입력\n",
    "stmt = users.insert().\\\n",
    "        values(name=bindparam('_name') + \" .. name\")\n",
    "conn.execute(stmt, [\n",
    "       {'id':4, '_name':'name1'},\n",
    "       {'id':5, '_name':'name2'},\n",
    "       {'id':6, '_name':'name3'},\n",
    "    ])\n",
    "conn.execute(users.select()).fetchall()"
   ]
  },
  {
   "cell_type": "code",
   "execution_count": 58,
   "metadata": {},
   "outputs": [
    {
     "name": "stdout",
     "output_type": "stream",
     "text": [
      "2018-06-07 10:00:20,407 INFO sqlalchemy.engine.base.Engine UPDATE users SET name=? WHERE users.name = ?\n",
      "2018-06-07 10:00:20,408 INFO sqlalchemy.engine.base.Engine ('ed', 'jack')\n",
      "2018-06-07 10:00:20,409 INFO sqlalchemy.engine.base.Engine COMMIT\n",
      "2018-06-07 10:00:20,411 INFO sqlalchemy.engine.base.Engine SELECT users.id, users.name, users.fullname \n",
      "FROM users\n",
      "2018-06-07 10:00:20,412 INFO sqlalchemy.engine.base.Engine ()\n"
     ]
    },
    {
     "data": {
      "text/plain": [
       "[(1, 'ed', 'Fullname: jack'),\n",
       " (2, 'wendy', 'Fullname: wendy'),\n",
       " (4, 'name1 .. name', None),\n",
       " (5, 'name2 .. name', None),\n",
       " (6, 'name3 .. name', None)]"
      ]
     },
     "execution_count": 58,
     "metadata": {},
     "output_type": "execute_result"
    }
   ],
   "source": [
    "stmt = users.update().\\\n",
    "            where(users.c.name == 'jack').\\\n",
    "            values(name='ed')\n",
    "conn.execute(stmt)\n",
    "conn.execute(users.select()).fetchall()"
   ]
  },
  {
   "cell_type": "code",
   "execution_count": 59,
   "metadata": {
    "scrolled": true
   },
   "outputs": [
    {
     "name": "stdout",
     "output_type": "stream",
     "text": [
      "2018-06-07 10:00:21,446 INFO sqlalchemy.engine.base.Engine UPDATE users SET name=? WHERE users.name = ?\n",
      "2018-06-07 10:00:21,447 INFO sqlalchemy.engine.base.Engine (('ed', 'jack'), ('mary', 'wendy'))\n",
      "2018-06-07 10:00:21,449 INFO sqlalchemy.engine.base.Engine COMMIT\n"
     ]
    },
    {
     "data": {
      "text/plain": [
       "<sqlalchemy.engine.result.ResultProxy at 0x1118ba908>"
      ]
     },
     "execution_count": 59,
     "metadata": {},
     "output_type": "execute_result"
    }
   ],
   "source": [
    "stmt = users.update().\\\n",
    "            where(users.c.name == bindparam('oldname')).\\\n",
    "            values(name=bindparam('newname'))\n",
    "conn.execute(stmt, [\n",
    "    {'oldname':'jack', 'newname':'ed'},\n",
    "    {'oldname':'wendy', 'newname':'mary'},\n",
    "    ])"
   ]
  },
  {
   "cell_type": "code",
   "execution_count": 60,
   "metadata": {
    "scrolled": false
   },
   "outputs": [
    {
     "name": "stdout",
     "output_type": "stream",
     "text": [
      "2018-06-07 10:00:23,657 INFO sqlalchemy.engine.base.Engine SELECT users.id, users.name, users.fullname \n",
      "FROM users\n",
      "2018-06-07 10:00:23,658 INFO sqlalchemy.engine.base.Engine ()\n"
     ]
    },
    {
     "data": {
      "text/plain": [
       "[(1, 'ed', 'Fullname: jack'),\n",
       " (2, 'mary', 'Fullname: wendy'),\n",
       " (4, 'name1 .. name', None),\n",
       " (5, 'name2 .. name', None),\n",
       " (6, 'name3 .. name', None)]"
      ]
     },
     "execution_count": 60,
     "metadata": {},
     "output_type": "execute_result"
    }
   ],
   "source": [
    "conn.execute(users.select()).fetchall()"
   ]
  },
  {
   "cell_type": "markdown",
   "metadata": {},
   "source": [
    "## 상관관계 업데이트(Correlated Updates)\n",
    "- 다른 테이블의 값을 사용해 테이블을 업데이트"
   ]
  },
  {
   "cell_type": "code",
   "execution_count": 61,
   "metadata": {},
   "outputs": [
    {
     "name": "stdout",
     "output_type": "stream",
     "text": [
      "2018-06-07 10:00:26,649 INFO sqlalchemy.engine.base.Engine SELECT addresses.email_address \n",
      "FROM addresses, users \n",
      "WHERE addresses.user_id = users.id\n",
      " LIMIT ? OFFSET ?\n",
      "2018-06-07 10:00:26,650 INFO sqlalchemy.engine.base.Engine (1, 0)\n"
     ]
    },
    {
     "data": {
      "text/plain": [
       "[('jack@yahoo.com',)]"
      ]
     },
     "execution_count": 61,
     "metadata": {},
     "output_type": "execute_result"
    }
   ],
   "source": [
    "# addresses 테이블에서 첫번째 email 주소를 선택\n",
    "stmt = select([addresses.c.email_address]).\\\n",
    "            where(addresses.c.user_id == users.c.id).\\\n",
    "            limit(1)\n",
    "conn.execute(stmt).fetchall()"
   ]
  },
  {
   "cell_type": "code",
   "execution_count": 62,
   "metadata": {},
   "outputs": [
    {
     "name": "stdout",
     "output_type": "stream",
     "text": [
      "2018-06-07 10:00:28,587 INFO sqlalchemy.engine.base.Engine UPDATE users SET fullname=(SELECT addresses.email_address \n",
      "FROM addresses \n",
      "WHERE addresses.user_id = users.id\n",
      " LIMIT ? OFFSET ?)\n",
      "2018-06-07 10:00:28,588 INFO sqlalchemy.engine.base.Engine (1, 0)\n",
      "2018-06-07 10:00:28,589 INFO sqlalchemy.engine.base.Engine COMMIT\n",
      "2018-06-07 10:00:28,590 INFO sqlalchemy.engine.base.Engine SELECT users.id, users.name, users.fullname \n",
      "FROM users\n",
      "2018-06-07 10:00:28,591 INFO sqlalchemy.engine.base.Engine ()\n"
     ]
    },
    {
     "data": {
      "text/plain": [
       "[(1, 'ed', 'jack@yahoo.com'),\n",
       " (2, 'mary', 'www@www.org'),\n",
       " (4, 'name1 .. name', None),\n",
       " (5, 'name2 .. name', None),\n",
       " (6, 'name3 .. name', None)]"
      ]
     },
     "execution_count": 62,
     "metadata": {},
     "output_type": "execute_result"
    }
   ],
   "source": [
    "# 위에서 선택한 주소를 이용해 users 테이블의 fullname 컬럼을 update\n",
    "conn.execute(users.update().values(fullname=stmt))\n",
    "conn.execute(users.select()).fetchall()"
   ]
  },
  {
   "cell_type": "markdown",
   "metadata": {},
   "source": [
    "## Parameter-Ordered Updates\n",
    "\n",
    "- `update()`문의 SET 절에서 렌더링된 파라미터의 순서가 중요할 수 있다.\n",
    "    - 예: `UPDATE some_table SET x = y + 10, y = 20`\n",
    "    - 위 경우에는 `UPDATE some_table SET y = 20, x = y + 10` 이런 결과를 갖는다.\n",
    "    - `preserve_parameter_order` 플래그를 사용할 수 있다."
   ]
  },
  {
   "cell_type": "code",
   "execution_count": null,
   "metadata": {},
   "outputs": [],
   "source": [
    "stmt = some_table.update(preserve_parameter_order=True).\\\n",
    "    values([(some_table.c.y, 20), (some_table.c.x, some_table.c.y + 10)])"
   ]
  },
  {
   "cell_type": "markdown",
   "metadata": {},
   "source": [
    "## 삭제\n",
    "\n",
    "- `delete()`\n",
    "- `rowcount`: WHERE 절과 일치하는 행의 개수를 보여준다."
   ]
  },
  {
   "cell_type": "code",
   "execution_count": 63,
   "metadata": {
    "scrolled": true
   },
   "outputs": [
    {
     "name": "stdout",
     "output_type": "stream",
     "text": [
      "2018-06-07 10:00:34,682 INFO sqlalchemy.engine.base.Engine DELETE FROM users WHERE users.name > ?\n",
      "2018-06-07 10:00:34,683 INFO sqlalchemy.engine.base.Engine ('m',)\n",
      "2018-06-07 10:00:34,685 INFO sqlalchemy.engine.base.Engine COMMIT\n"
     ]
    }
   ],
   "source": [
    "result = conn.execute(users.delete().where(users.c.name > 'm'))"
   ]
  },
  {
   "cell_type": "code",
   "execution_count": 64,
   "metadata": {
    "scrolled": true
   },
   "outputs": [
    {
     "name": "stdout",
     "output_type": "stream",
     "text": [
      "2018-06-07 10:00:37,506 INFO sqlalchemy.engine.base.Engine SELECT users.id, users.name, users.fullname \n",
      "FROM users\n",
      "2018-06-07 10:00:37,507 INFO sqlalchemy.engine.base.Engine ()\n"
     ]
    },
    {
     "data": {
      "text/plain": [
       "[(1, 'ed', 'jack@yahoo.com')]"
      ]
     },
     "execution_count": 64,
     "metadata": {},
     "output_type": "execute_result"
    }
   ],
   "source": [
    "conn.execute(users.select()).fetchall()"
   ]
  },
  {
   "cell_type": "code",
   "execution_count": 65,
   "metadata": {
    "scrolled": true
   },
   "outputs": [
    {
     "name": "stdout",
     "output_type": "stream",
     "text": [
      "2018-06-07 10:00:38,345 INFO sqlalchemy.engine.base.Engine DELETE FROM users\n",
      "2018-06-07 10:00:38,346 INFO sqlalchemy.engine.base.Engine ()\n",
      "2018-06-07 10:00:38,347 INFO sqlalchemy.engine.base.Engine COMMIT\n"
     ]
    },
    {
     "data": {
      "text/plain": [
       "1"
      ]
     },
     "execution_count": 65,
     "metadata": {},
     "output_type": "execute_result"
    }
   ],
   "source": [
    "# rowcount\n",
    "result = conn.execute(users.delete())\n",
    "result.rowcount"
   ]
  }
 ],
 "metadata": {
  "kernelspec": {
   "display_name": "Python [default]",
   "language": "python",
   "name": "python3"
  },
  "language_info": {
   "codemirror_mode": {
    "name": "ipython",
    "version": 3
   },
   "file_extension": ".py",
   "mimetype": "text/x-python",
   "name": "python",
   "nbconvert_exporter": "python",
   "pygments_lexer": "ipython3",
   "version": "3.6.5"
  }
 },
 "nbformat": 4,
 "nbformat_minor": 2
}
