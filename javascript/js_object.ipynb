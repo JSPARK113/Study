{
 "cells": [
  {
   "cell_type": "markdown",
   "metadata": {},
   "source": [
    "### 8장 함수"
   ]
  },
  {
   "cell_type": "code",
   "execution_count": 78,
   "metadata": {},
   "outputs": [],
   "source": [
    "// 선언문으로 정의 - 항상 프로그램의 첫머리로 끌어올려져서 실행된다.\n",
    "function square1(x) { return x*x };\n",
    "// 아래는 원래 자리에서 실행되므로, 항상 실행되기 전의 자리에 있어야 한다.\n",
    "// 함수 리터럴\n",
    "var square2 = function(x) { return x*x };\n",
    "// 생성자\n",
    "var square3 = new Function(\"x\", \"return x*x\");\n",
    "// 화살표 함수\n",
    "var square4 = x => x*x;"
   ]
  },
  {
   "cell_type": "code",
   "execution_count": 79,
   "metadata": {},
   "outputs": [
    {
     "name": "stdout",
     "output_type": "stream",
     "text": [
      "4\n",
      "9\n",
      "16\n",
      "25\n"
     ]
    }
   ],
   "source": [
    "console.log(square1(2))\n",
    "console.log(square2(3))\n",
    "console.log(square3(4))\n",
    "console.log(square4(5))"
   ]
  },
  {
   "cell_type": "code",
   "execution_count": 80,
   "metadata": {},
   "outputs": [],
   "source": [
    "function test(x) {\n",
    "    var x = square(x)\n",
    "    return x\n",
    "    function square(y) { return y*y };\n",
    "}"
   ]
  },
  {
   "cell_type": "code",
   "execution_count": 84,
   "metadata": {},
   "outputs": [
    {
     "data": {
      "text/plain": [
       "25"
      ]
     },
     "execution_count": 84,
     "metadata": {},
     "output_type": "execute_result"
    }
   ],
   "source": [
    "test(5)"
   ]
  },
  {
   "cell_type": "code",
   "execution_count": 85,
   "metadata": {},
   "outputs": [
    {
     "data": {
      "text/plain": [
       "'function'"
      ]
     },
     "execution_count": 85,
     "metadata": {},
     "output_type": "execute_result"
    }
   ],
   "source": [
    "typeof test"
   ]
  },
  {
   "cell_type": "markdown",
   "metadata": {},
   "source": [
    "- 함수의 인수"
   ]
  },
  {
   "cell_type": "code",
   "execution_count": null,
   "metadata": {},
   "outputs": [],
   "source": [
    "this.test(4)"
   ]
  },
  {
   "cell_type": "code",
   "execution_count": 90,
   "metadata": {},
   "outputs": [
    {
     "name": "stdout",
     "output_type": "stream",
     "text": [
      "park jisun\n"
     ]
    }
   ],
   "source": [
    "var name = 'park'\n",
    "var obj = {\n",
    "    name: 'jisun',\n",
    "    disp: function(){\n",
    "        console.log(name, this.name);\n",
    "    },\n",
    "}\n",
    "obj.disp()"
   ]
  },
  {
   "cell_type": "markdown",
   "metadata": {},
   "source": [
    "- 이터레이터, 제너레이터"
   ]
  },
  {
   "cell_type": "code",
   "execution_count": 91,
   "metadata": {},
   "outputs": [
    {
     "name": "stdout",
     "output_type": "stream",
     "text": [
      "1\n",
      "2\n",
      "3\n"
     ]
    }
   ],
   "source": [
    "var a = [1, 2, 3];\n",
    "a.forEach(function(val) {console.log(val); })"
   ]
  },
  {
   "cell_type": "code",
   "execution_count": 93,
   "metadata": {},
   "outputs": [],
   "source": [
    "var iter = a[Symbol.iterator]();"
   ]
  },
  {
   "cell_type": "code",
   "execution_count": 98,
   "metadata": {},
   "outputs": [
    {
     "data": {
      "text/plain": [
       "{ value: undefined, done: true }"
      ]
     },
     "execution_count": 98,
     "metadata": {},
     "output_type": "execute_result"
    }
   ],
   "source": [
    "iter.next()"
   ]
  },
  {
   "cell_type": "code",
   "execution_count": 100,
   "metadata": {},
   "outputs": [],
   "source": [
    "function* gen(){\n",
    "    yield 1;\n",
    "    yield 2;\n",
    "    yield 3;\n",
    "}\n",
    "\n",
    "var iter = gen();\n"
   ]
  },
  {
   "cell_type": "code",
   "execution_count": 101,
   "metadata": {},
   "outputs": [
    {
     "data": {
      "text/plain": [
       "{}"
      ]
     },
     "execution_count": 101,
     "metadata": {},
     "output_type": "execute_result"
    }
   ],
   "source": [
    "iter"
   ]
  },
  {
   "cell_type": "markdown",
   "metadata": {},
   "source": [
    "### 9장 객체"
   ]
  },
  {
   "cell_type": "code",
   "execution_count": 13,
   "metadata": {},
   "outputs": [],
   "source": [
    "// 객체리터럴로 생성\n",
    "var card1 = { suit: \"하트\", rank: \"A\" };\n",
    "// 생성자로 생성\n",
    "function card2(suit, rank) {\n",
    "    this.suit = suit;\n",
    "    this.rank = rank;\n",
    "}\n",
    "// Object.create로 생성\n",
    "var card3 = Object.create(Object.prototype, {\n",
    "    suit: {\n",
    "        value: \"하트\",\n",
    "        writable: true,\n",
    "        enumerable: true,\n",
    "        configurable: true\n",
    "    },\n",
    "    rank: {\n",
    "        value: \"A\",\n",
    "        writable: true,\n",
    "        enumerable: true,\n",
    "        configurable: true\n",
    "    }\n",
    "});"
   ]
  },
  {
   "cell_type": "code",
   "execution_count": 18,
   "metadata": {},
   "outputs": [
    {
     "data": {
      "text/plain": [
       "{ suit: '하트', rank: 'A' }"
      ]
     },
     "execution_count": 18,
     "metadata": {},
     "output_type": "execute_result"
    }
   ],
   "source": [
    "card1"
   ]
  },
  {
   "cell_type": "code",
   "execution_count": 19,
   "metadata": {},
   "outputs": [
    {
     "data": {
      "text/plain": [
       "[Function: card2]"
      ]
     },
     "execution_count": 19,
     "metadata": {},
     "output_type": "execute_result"
    }
   ],
   "source": [
    "card2"
   ]
  },
  {
   "cell_type": "code",
   "execution_count": 20,
   "metadata": {},
   "outputs": [
    {
     "data": {
      "text/plain": [
       "{ suit: '하트', rank: 'A' }"
      ]
     },
     "execution_count": 20,
     "metadata": {},
     "output_type": "execute_result"
    }
   ],
   "source": [
    "card3"
   ]
  },
  {
   "cell_type": "code",
   "execution_count": 21,
   "metadata": {},
   "outputs": [
    {
     "data": {
      "text/plain": [
       "{ value: '하트',\n",
       "  writable: true,\n",
       "  enumerable: true,\n",
       "  configurable: true }"
      ]
     },
     "execution_count": 21,
     "metadata": {},
     "output_type": "execute_result"
    }
   ],
   "source": [
    "Object.getOwnPropertyDescriptor(card1, \"suit\");"
   ]
  },
  {
   "cell_type": "markdown",
   "metadata": {},
   "source": [
    "- 9.1 프로토타입"
   ]
  },
  {
   "cell_type": "code",
   "execution_count": 22,
   "metadata": {},
   "outputs": [],
   "source": [
    "//이렇게 만들면 메모리 낭비가 심해진다.\n",
    "function Circle(center, radius) {\n",
    "    this.center = center;\n",
    "    this.radius = radius;\n",
    "    this.area = function() {\n",
    "        return Math.PI*this.radius*this.radius;\n",
    "    };\n",
    "}\n",
    "var c1 = new Circle({x:0, y:0}, 2.0);\n",
    "var c2 = new Circle({x:0, y:1}, 3.0);\n",
    "var c3 = new Circle({x:1, y:0}, 1.0);"
   ]
  },
  {
   "cell_type": "code",
   "execution_count": 30,
   "metadata": {},
   "outputs": [
    {
     "name": "stdout",
     "output_type": "stream",
     "text": [
      "F {}\n"
     ]
    }
   ],
   "source": [
    "// F 함수 선언\n",
    "function F(){};\n",
    "console.log(F.prototype);"
   ]
  },
  {
   "cell_type": "code",
   "execution_count": 34,
   "metadata": {},
   "outputs": [
    {
     "data": {
      "text/plain": [
       "'test'"
      ]
     },
     "execution_count": 34,
     "metadata": {},
     "output_type": "execute_result"
    }
   ],
   "source": [
    "// F의 prototype에 fun을 정의. 이 fun은 텍스트 \"test\"다.\n",
    "F.prototype.fun = \"test\""
   ]
  },
  {
   "cell_type": "code",
   "execution_count": 36,
   "metadata": {},
   "outputs": [],
   "source": [
    "// test_instance에 F함수를 정의해줌.\n",
    "var test_instance = new F();"
   ]
  },
  {
   "cell_type": "code",
   "execution_count": 37,
   "metadata": {},
   "outputs": [
    {
     "name": "stdout",
     "output_type": "stream",
     "text": [
      "test\n"
     ]
    }
   ],
   "source": [
    "// test_instance에도 fun이 생김.\n",
    "console.log(test_instance.fun)"
   ]
  },
  {
   "cell_type": "code",
   "execution_count": 38,
   "metadata": {},
   "outputs": [
    {
     "data": {
      "text/plain": [
       "'인스턴스 값으로 수정'"
      ]
     },
     "execution_count": 38,
     "metadata": {},
     "output_type": "execute_result"
    }
   ],
   "source": [
    "// test_instance의 fun에는 새로운 값을 정의\n",
    "test_instance.fun = \"인스턴스 값으로 수정\";"
   ]
  },
  {
   "cell_type": "code",
   "execution_count": 39,
   "metadata": {},
   "outputs": [
    {
     "name": "stdout",
     "output_type": "stream",
     "text": [
      "인스턴스의 fun: 인스턴스 값으로 수정\n",
      "F의 fun: test\n"
     ]
    }
   ],
   "source": [
    "// 원본의 fun에는 변함이 없고 test_instance만 fun 값이 변경\n",
    "console.log(\"인스턴스의 fun: \" + test_instance.fun);\n",
    "console.log(\"F의 fun: \" + F.prototype.fun);"
   ]
  },
  {
   "cell_type": "markdown",
   "metadata": {},
   "source": [
    "9.2 프로토타입 상속\n",
    "\n",
    "- 내부프로퍼티를 통해 상속 가능 : `__proto__`에 값이 저장됨.\n",
    "    - 모든 자바스크립트 실행환경이 `__proto__` 프로퍼티를 지원하진 않음.\n",
    "    \n",
    "- 프로토타입 체인"
   ]
  },
  {
   "cell_type": "code",
   "execution_count": 50,
   "metadata": {},
   "outputs": [
    {
     "name": "stdout",
     "output_type": "stream",
     "text": [
      "Hello! Tom\n"
     ]
    }
   ],
   "source": [
    "// objA 객체 생성\n",
    "var objA = {\n",
    "    name: \"Tom\",\n",
    "    sayHello: function() {\n",
    "        console.log(\"Hello! \" + this.name);\n",
    "    }\n",
    "};\n",
    "objA.sayHello()"
   ]
  },
  {
   "cell_type": "code",
   "execution_count": 55,
   "metadata": {},
   "outputs": [
    {
     "data": {
      "text/plain": [
       "{ name: 'Huck' }"
      ]
     },
     "execution_count": 55,
     "metadata": {},
     "output_type": "execute_result"
    }
   ],
   "source": [
    "// objBB\n",
    "var objB = {\n",
    "    name: \"Huck\"\n",
    "};\n",
    "objB"
   ]
  },
  {
   "cell_type": "code",
   "execution_count": 57,
   "metadata": {},
   "outputs": [
    {
     "name": "stdout",
     "output_type": "stream",
     "text": [
      "Hello! Huck\n"
     ]
    }
   ],
   "source": [
    "objB.__proto__ = objA\n",
    "objB.sayHello()"
   ]
  },
  {
   "cell_type": "code",
   "execution_count": 58,
   "metadata": {},
   "outputs": [
    {
     "data": {
      "text/plain": [
       "{ name: 'Huck' }"
      ]
     },
     "execution_count": 58,
     "metadata": {},
     "output_type": "execute_result"
    }
   ],
   "source": [
    "var objC = {}\n",
    "objC.__proto__ = objB"
   ]
  },
  {
   "cell_type": "code",
   "execution_count": 60,
   "metadata": {},
   "outputs": [
    {
     "name": "stdout",
     "output_type": "stream",
     "text": [
      "Hello! Huck\n"
     ]
    }
   ],
   "source": [
    "objC.sayHello()"
   ]
  },
  {
   "cell_type": "markdown",
   "metadata": {},
   "source": [
    "- new 연산자\n",
    "    1. 빈객체 생성\n",
    "    2. 함수의 prototype을 객체의 \\__proto__에 대입\n",
    "    3. this 객체와 아규먼트를 설정하여 함수 실행"
   ]
  },
  {
   "cell_type": "code",
   "execution_count": 102,
   "metadata": {},
   "outputs": [
    {
     "name": "stdout",
     "output_type": "stream",
     "text": [
      "Numbers { x: 1, y: 2 }\n",
      "3\n"
     ]
    }
   ],
   "source": [
    "function Numbers(x,y){\n",
    "    this.x = x;\n",
    "    this.y = y;\n",
    "}\n",
    "Numbers.prototype.plus = function(){\n",
    "    return this.x + this.y;\n",
    "}\n",
    "var obj = new Numbers(1,2);\n",
    "console.log(obj);\n",
    "console.log(obj.plus());"
   ]
  },
  {
   "cell_type": "markdown",
   "metadata": {},
   "source": [
    "- 접근자 프로퍼티"
   ]
  },
  {
   "cell_type": "code",
   "execution_count": 104,
   "metadata": {},
   "outputs": [
    {
     "name": "stdout",
     "output_type": "stream",
     "text": [
      "Numbers { x: 1, y: 2 }\n",
      "3\n"
     ]
    }
   ],
   "source": [
    "// new를 하면 수행되는 코드\n",
    "var obj = {};\n",
    "obj.__proto__ = Numbers.prototype\n",
    "Numbers.apply(obj, [1,2]);\n",
    "console.log(obj);\n",
    "console.log(obj.plus());"
   ]
  },
  {
   "cell_type": "code",
   "execution_count": 110,
   "metadata": {},
   "outputs": [
    {
     "name": "stdout",
     "output_type": "stream",
     "text": [
      "Mr.Tom\n",
      "Mr.KIM\n"
     ]
    },
    {
     "data": {
      "text/plain": [
       "{ _name: 'KIM', name: [Getter/Setter] }"
      ]
     },
     "execution_count": 110,
     "metadata": {},
     "output_type": "execute_result"
    }
   ],
   "source": [
    "var person = {\n",
    "    _name: \"Tom\",\n",
    "    get name() {\n",
    "        return \"Mr.\" + this._name\n",
    "    },\n",
    "    set name(name){\n",
    "        this._name = name.toUpperCase();\n",
    "    }\n",
    "}\n",
    "\n",
    "console.log(person.name);\n",
    "person.name = \"Kim\";\n",
    "console.log(person.name);\n",
    "person"
   ]
  },
  {
   "cell_type": "code",
   "execution_count": 116,
   "metadata": {},
   "outputs": [
    {
     "name": "stdout",
     "output_type": "stream",
     "text": [
      "{ _name: 'park' }\n",
      "park\n",
      "{ _name: 'kim' }\n",
      "kim\n"
     ]
    }
   ],
   "source": [
    "var person = Object.create({}, {\n",
    "    _name: {\n",
    "        value: \"park\",\n",
    "        writable: true,\n",
    "        enumerable: true,\n",
    "        configurable: true\n",
    "    },\n",
    "    name: {\n",
    "        get: function() { return this._name; },\n",
    "        set: function(name) { this._name = name; }\n",
    "    }\n",
    "});\n",
    "\n",
    "console.log(person);\n",
    "console.log(person.name);\n",
    "person.name = \"kim\";\n",
    "console.log(person)\n",
    "console.log(person.name)"
   ]
  },
  {
   "cell_type": "code",
   "execution_count": 120,
   "metadata": {},
   "outputs": [],
   "source": [
    "var init = {name: \"TOM\"};\n",
    "\n",
    "var person = (function(obj){\n",
    "    \n",
    "    var _name = obj.name;\n",
    "    \n",
    "    var name_length = function(){\n",
    "        return _name.length;\n",
    "    }\n",
    "    \n",
    "    return {\n",
    "        get name() {\n",
    "            return _name;\n",
    "        },\n",
    "        set name(name) {\n",
    "            _name = name.toUpperCase();\n",
    "        },\n",
    "        len: name_length\n",
    "    }\n",
    "})(init);"
   ]
  },
  {
   "cell_type": "code",
   "execution_count": 121,
   "metadata": {},
   "outputs": [
    {
     "name": "stdout",
     "output_type": "stream",
     "text": [
      "TOM\n",
      "3\n",
      "SUE\n",
      "3\n"
     ]
    }
   ],
   "source": [
    "console.log(person.name);\n",
    "console.log(person.len());\n",
    "person.name = \"sue\";\n",
    "console.log(person.name);\n",
    "console.log(person.len());"
   ]
  },
  {
   "cell_type": "markdown",
   "metadata": {},
   "source": [
    "- json"
   ]
  },
  {
   "cell_type": "code",
   "execution_count": 124,
   "metadata": {},
   "outputs": [
    {
     "name": "stdout",
     "output_type": "stream",
     "text": [
      "object { name: 'kim', addr: 'seoul' } string {\"name\":\"kim\",\"addr\":\"seoul\"}\n"
     ]
    }
   ],
   "source": [
    "var obj = {name:\"kim\", addr: \"seoul\"};\n",
    "var str_obj = JSON.stringify(obj); // json 형식으로 하나의 string이 됨. 아래 출력 결과 참고\n",
    "console.log(typeof obj, obj, typeof str_obj, str_obj);"
   ]
  },
  {
   "cell_type": "code",
   "execution_count": 125,
   "metadata": {},
   "outputs": [
    {
     "name": "stdout",
     "output_type": "stream",
     "text": [
      "string object { name: 'kim', addr: 'seoul' }\n"
     ]
    }
   ],
   "source": [
    "var parse_obj = JSON.parse(str_obj);\n",
    "console.log(typeof str_obj, typeof parse_obj, parse_obj);"
   ]
  },
  {
   "cell_type": "markdown",
   "metadata": {},
   "source": [
    "- 프로퍼티의 열거"
   ]
  },
  {
   "cell_type": "code",
   "execution_count": 127,
   "metadata": {},
   "outputs": [
    {
     "name": "stdout",
     "output_type": "stream",
     "text": [
      "name\n",
      "len\n"
     ]
    }
   ],
   "source": [
    "// for/in 문\n",
    "for (var p in person) console.log(p);"
   ]
  },
  {
   "cell_type": "code",
   "execution_count": 126,
   "metadata": {},
   "outputs": [
    {
     "name": "stdout",
     "output_type": "stream",
     "text": [
      "[ 'name', 'len' ]\n"
     ]
    }
   ],
   "source": [
    "// Object.keys 사용\n",
    "console.log(Object.keys(person));"
   ]
  },
  {
   "cell_type": "code",
   "execution_count": 128,
   "metadata": {},
   "outputs": [
    {
     "name": "stdout",
     "output_type": "stream",
     "text": [
      "[ 'name', 'len' ]\n"
     ]
    }
   ],
   "source": [
    "// Object.getOwnPropertyNames 사용\n",
    "console.log(Object.getOwnPropertyNames(person));"
   ]
  },
  {
   "cell_type": "code",
   "execution_count": null,
   "metadata": {},
   "outputs": [],
   "source": []
  }
 ],
 "metadata": {
  "kernelspec": {
   "display_name": "Javascript (Node.js)",
   "language": "javascript",
   "name": "javascript"
  },
  "language_info": {
   "file_extension": ".js",
   "mimetype": "application/javascript",
   "name": "javascript",
   "version": "8.11.2"
  }
 },
 "nbformat": 4,
 "nbformat_minor": 2
}
